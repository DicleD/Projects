{
 "metadata": {
  "kernelspec": {
   "language": "python",
   "display_name": "Python 3",
   "name": "python3"
  },
  "language_info": {
   "name": "python",
   "version": "3.7.10",
   "mimetype": "text/x-python",
   "codemirror_mode": {
    "name": "ipython",
    "version": 3
   },
   "pygments_lexer": "ipython3",
   "nbconvert_exporter": "python",
   "file_extension": ".py"
  },
  "pycharm": {
   "stem_cell": {
    "cell_type": "raw",
    "source": [
     "\n",
     "\n",
     "def create_user_movie_df():\n",
     "    import pandas as pd\n",
     "    movie = pd.read_csv('../input/movielens-20m-dataset/movie.csv')\n",
     "    rating = pd.read_csv('../input/movielens-20m-dataset/rating.csv')\n",
     "    df = movie.merge(rating, how=\"left\", on=\"movieId\")\n",
     "    comment_counts = pd.DataFrame(df[\"title\"].value_counts())\n",
     "    rare_movies = comment_counts[comment_counts[\"title\"] <= 1000].index\n",
     "    common_movies = df[~df[\"title\"].isin(rare_movies)]\n",
     "    user_movie_df = common_movies.pivot_table(index=[\"userId\"], columns=[\"title\"], values=\"rating\")\n",
     "    return user_movie_df\n"
    ],
    "metadata": {
     "collapsed": false
    }
   }
  }
 },
 "nbformat_minor": 4,
 "nbformat": 4,
 "cells": [
  {
   "cell_type": "code",
   "source": [
    "user_movie_df = create_user_movie_df()"
   ],
   "metadata": {
    "execution": {
     "iopub.status.busy": "2021-06-13T05:30:19.077343Z",
     "iopub.execute_input": "2021-06-13T05:30:19.077741Z",
     "iopub.status.idle": "2021-06-13T05:31:41.023329Z",
     "shell.execute_reply.started": "2021-06-13T05:30:19.077709Z",
     "shell.execute_reply": "2021-06-13T05:31:41.022055Z"
    },
    "trusted": true
   },
   "execution_count": 3,
   "outputs": []
  },
  {
   "cell_type": "code",
   "source": [
    "user_movie_df.head()"
   ],
   "metadata": {
    "execution": {
     "iopub.status.busy": "2021-06-13T05:32:51.793080Z",
     "iopub.execute_input": "2021-06-13T05:32:51.793517Z",
     "iopub.status.idle": "2021-06-13T05:32:51.832920Z",
     "shell.execute_reply.started": "2021-06-13T05:32:51.793479Z",
     "shell.execute_reply": "2021-06-13T05:32:51.831966Z"
    },
    "trusted": true
   },
   "execution_count": 4,
   "outputs": [
    {
     "execution_count": 4,
     "output_type": "execute_result",
     "data": {
      "text/plain": "title   'burbs, The (1989)  (500) Days of Summer (2009)  \\\nuserId                                                    \n1.0                    NaN                          NaN   \n2.0                    NaN                          NaN   \n3.0                    NaN                          NaN   \n4.0                    NaN                          NaN   \n5.0                    NaN                          NaN   \n\ntitle   *batteries not included (1987)  ...And Justice for All (1979)  \\\nuserId                                                                  \n1.0                                NaN                            NaN   \n2.0                                NaN                            NaN   \n3.0                                NaN                            NaN   \n4.0                                NaN                            NaN   \n5.0                                NaN                            NaN   \n\ntitle   10 Things I Hate About You (1999)  10,000 BC (2008)  \\\nuserId                                                        \n1.0                                   NaN               NaN   \n2.0                                   NaN               NaN   \n3.0                                   NaN               NaN   \n4.0                                   NaN               NaN   \n5.0                                   NaN               NaN   \n\ntitle   101 Dalmatians (1996)  \\\nuserId                          \n1.0                       NaN   \n2.0                       NaN   \n3.0                       NaN   \n4.0                       NaN   \n5.0                       NaN   \n\ntitle   101 Dalmatians (One Hundred and One Dalmatians) (1961)  \\\nuserId                                                           \n1.0                                                   NaN        \n2.0                                                   NaN        \n3.0                                                   NaN        \n4.0                                                   NaN        \n5.0                                                   NaN        \n\ntitle   102 Dalmatians (2000)  12 Angry Men (1957)  ...  \\\nuserId                                              ...   \n1.0                       NaN                  NaN  ...   \n2.0                       NaN                  NaN  ...   \n3.0                       NaN                  NaN  ...   \n4.0                       NaN                  NaN  ...   \n5.0                       NaN                  NaN  ...   \n\ntitle   Zero Dark Thirty (2012)  Zero Effect (1998)  Zodiac (2007)  \\\nuserId                                                               \n1.0                         NaN                 NaN            NaN   \n2.0                         NaN                 NaN            NaN   \n3.0                         NaN                 NaN            NaN   \n4.0                         NaN                 NaN            NaN   \n5.0                         NaN                 NaN            NaN   \n\ntitle   Zombieland (2009)  Zoolander (2001)  Zulu (1964)  [REC] (2007)  \\\nuserId                                                                   \n1.0                   NaN               NaN          NaN           NaN   \n2.0                   NaN               NaN          NaN           NaN   \n3.0                   NaN               NaN          NaN           NaN   \n4.0                   NaN               NaN          NaN           NaN   \n5.0                   NaN               NaN          NaN           NaN   \n\ntitle   eXistenZ (1999)  xXx (2002)  ¡Three Amigos! (1986)  \nuserId                                                      \n1.0                 NaN         NaN                    NaN  \n2.0                 NaN         NaN                    NaN  \n3.0                 NaN         NaN                    NaN  \n4.0                 NaN         NaN                    NaN  \n5.0                 NaN         NaN                    NaN  \n\n[5 rows x 3159 columns]",
      "text/html": "<div>\n<style scoped>\n    .dataframe tbody tr th:only-of-type {\n        vertical-align: middle;\n    }\n\n    .dataframe tbody tr th {\n        vertical-align: top;\n    }\n\n    .dataframe thead th {\n        text-align: right;\n    }\n</style>\n<table border=\"1\" class=\"dataframe\">\n  <thead>\n    <tr style=\"text-align: right;\">\n      <th>title</th>\n      <th>'burbs, The (1989)</th>\n      <th>(500) Days of Summer (2009)</th>\n      <th>*batteries not included (1987)</th>\n      <th>...And Justice for All (1979)</th>\n      <th>10 Things I Hate About You (1999)</th>\n      <th>10,000 BC (2008)</th>\n      <th>101 Dalmatians (1996)</th>\n      <th>101 Dalmatians (One Hundred and One Dalmatians) (1961)</th>\n      <th>102 Dalmatians (2000)</th>\n      <th>12 Angry Men (1957)</th>\n      <th>...</th>\n      <th>Zero Dark Thirty (2012)</th>\n      <th>Zero Effect (1998)</th>\n      <th>Zodiac (2007)</th>\n      <th>Zombieland (2009)</th>\n      <th>Zoolander (2001)</th>\n      <th>Zulu (1964)</th>\n      <th>[REC] (2007)</th>\n      <th>eXistenZ (1999)</th>\n      <th>xXx (2002)</th>\n      <th>¡Three Amigos! (1986)</th>\n    </tr>\n    <tr>\n      <th>userId</th>\n      <th></th>\n      <th></th>\n      <th></th>\n      <th></th>\n      <th></th>\n      <th></th>\n      <th></th>\n      <th></th>\n      <th></th>\n      <th></th>\n      <th></th>\n      <th></th>\n      <th></th>\n      <th></th>\n      <th></th>\n      <th></th>\n      <th></th>\n      <th></th>\n      <th></th>\n      <th></th>\n      <th></th>\n    </tr>\n  </thead>\n  <tbody>\n    <tr>\n      <th>1.0</th>\n      <td>NaN</td>\n      <td>NaN</td>\n      <td>NaN</td>\n      <td>NaN</td>\n      <td>NaN</td>\n      <td>NaN</td>\n      <td>NaN</td>\n      <td>NaN</td>\n      <td>NaN</td>\n      <td>NaN</td>\n      <td>...</td>\n      <td>NaN</td>\n      <td>NaN</td>\n      <td>NaN</td>\n      <td>NaN</td>\n      <td>NaN</td>\n      <td>NaN</td>\n      <td>NaN</td>\n      <td>NaN</td>\n      <td>NaN</td>\n      <td>NaN</td>\n    </tr>\n    <tr>\n      <th>2.0</th>\n      <td>NaN</td>\n      <td>NaN</td>\n      <td>NaN</td>\n      <td>NaN</td>\n      <td>NaN</td>\n      <td>NaN</td>\n      <td>NaN</td>\n      <td>NaN</td>\n      <td>NaN</td>\n      <td>NaN</td>\n      <td>...</td>\n      <td>NaN</td>\n      <td>NaN</td>\n      <td>NaN</td>\n      <td>NaN</td>\n      <td>NaN</td>\n      <td>NaN</td>\n      <td>NaN</td>\n      <td>NaN</td>\n      <td>NaN</td>\n      <td>NaN</td>\n    </tr>\n    <tr>\n      <th>3.0</th>\n      <td>NaN</td>\n      <td>NaN</td>\n      <td>NaN</td>\n      <td>NaN</td>\n      <td>NaN</td>\n      <td>NaN</td>\n      <td>NaN</td>\n      <td>NaN</td>\n      <td>NaN</td>\n      <td>NaN</td>\n      <td>...</td>\n      <td>NaN</td>\n      <td>NaN</td>\n      <td>NaN</td>\n      <td>NaN</td>\n      <td>NaN</td>\n      <td>NaN</td>\n      <td>NaN</td>\n      <td>NaN</td>\n      <td>NaN</td>\n      <td>NaN</td>\n    </tr>\n    <tr>\n      <th>4.0</th>\n      <td>NaN</td>\n      <td>NaN</td>\n      <td>NaN</td>\n      <td>NaN</td>\n      <td>NaN</td>\n      <td>NaN</td>\n      <td>NaN</td>\n      <td>NaN</td>\n      <td>NaN</td>\n      <td>NaN</td>\n      <td>...</td>\n      <td>NaN</td>\n      <td>NaN</td>\n      <td>NaN</td>\n      <td>NaN</td>\n      <td>NaN</td>\n      <td>NaN</td>\n      <td>NaN</td>\n      <td>NaN</td>\n      <td>NaN</td>\n      <td>NaN</td>\n    </tr>\n    <tr>\n      <th>5.0</th>\n      <td>NaN</td>\n      <td>NaN</td>\n      <td>NaN</td>\n      <td>NaN</td>\n      <td>NaN</td>\n      <td>NaN</td>\n      <td>NaN</td>\n      <td>NaN</td>\n      <td>NaN</td>\n      <td>NaN</td>\n      <td>...</td>\n      <td>NaN</td>\n      <td>NaN</td>\n      <td>NaN</td>\n      <td>NaN</td>\n      <td>NaN</td>\n      <td>NaN</td>\n      <td>NaN</td>\n      <td>NaN</td>\n      <td>NaN</td>\n      <td>NaN</td>\n    </tr>\n  </tbody>\n</table>\n<p>5 rows × 3159 columns</p>\n</div>"
     },
     "metadata": {}
    }
   ]
  },
  {
   "cell_type": "code",
   "source": [
    "user_movie_df.reset_index()"
   ],
   "metadata": {
    "execution": {
     "iopub.status.busy": "2021-06-13T05:32:55.946710Z",
     "iopub.execute_input": "2021-06-13T05:32:55.947159Z",
     "iopub.status.idle": "2021-06-13T05:33:01.019789Z",
     "shell.execute_reply.started": "2021-06-13T05:32:55.947110Z",
     "shell.execute_reply": "2021-06-13T05:33:01.018700Z"
    },
    "trusted": true
   },
   "execution_count": 5,
   "outputs": [
    {
     "execution_count": 5,
     "output_type": "execute_result",
     "data": {
      "text/plain": "title     userId  'burbs, The (1989)  (500) Days of Summer (2009)  \\\n0            1.0                 NaN                          NaN   \n1            2.0                 NaN                          NaN   \n2            3.0                 NaN                          NaN   \n3            4.0                 NaN                          NaN   \n4            5.0                 NaN                          NaN   \n...          ...                 ...                          ...   \n138488  138489.0                 NaN                          NaN   \n138489  138490.0                 NaN                          NaN   \n138490  138491.0                 NaN                          NaN   \n138491  138492.0                 NaN                          NaN   \n138492  138493.0                 NaN                          NaN   \n\ntitle   *batteries not included (1987)  ...And Justice for All (1979)  \\\n0                                  NaN                            NaN   \n1                                  NaN                            NaN   \n2                                  NaN                            NaN   \n3                                  NaN                            NaN   \n4                                  NaN                            NaN   \n...                                ...                            ...   \n138488                             NaN                            NaN   \n138489                             NaN                            NaN   \n138490                             NaN                            NaN   \n138491                             NaN                            NaN   \n138492                             NaN                            NaN   \n\ntitle   10 Things I Hate About You (1999)  10,000 BC (2008)  \\\n0                                     NaN               NaN   \n1                                     NaN               NaN   \n2                                     NaN               NaN   \n3                                     NaN               NaN   \n4                                     NaN               NaN   \n...                                   ...               ...   \n138488                                NaN               NaN   \n138489                                NaN               NaN   \n138490                                NaN               NaN   \n138491                                NaN               NaN   \n138492                                NaN               NaN   \n\ntitle   101 Dalmatians (1996)  \\\n0                         NaN   \n1                         NaN   \n2                         NaN   \n3                         NaN   \n4                         NaN   \n...                       ...   \n138488                    NaN   \n138489                    NaN   \n138490                    NaN   \n138491                    NaN   \n138492                    3.0   \n\ntitle   101 Dalmatians (One Hundred and One Dalmatians) (1961)  \\\n0                                                     NaN        \n1                                                     NaN        \n2                                                     NaN        \n3                                                     NaN        \n4                                                     NaN        \n...                                                   ...        \n138488                                                NaN        \n138489                                                NaN        \n138490                                                2.5        \n138491                                                NaN        \n138492                                                3.5        \n\ntitle   102 Dalmatians (2000)  ...  Zero Dark Thirty (2012)  \\\n0                         NaN  ...                      NaN   \n1                         NaN  ...                      NaN   \n2                         NaN  ...                      NaN   \n3                         NaN  ...                      NaN   \n4                         NaN  ...                      NaN   \n...                       ...  ...                      ...   \n138488                    NaN  ...                      NaN   \n138489                    NaN  ...                      NaN   \n138490                    NaN  ...                      NaN   \n138491                    NaN  ...                      NaN   \n138492                    NaN  ...                      NaN   \n\ntitle   Zero Effect (1998)  Zodiac (2007)  Zombieland (2009)  \\\n0                      NaN            NaN                NaN   \n1                      NaN            NaN                NaN   \n2                      NaN            NaN                NaN   \n3                      NaN            NaN                NaN   \n4                      NaN            NaN                NaN   \n...                    ...            ...                ...   \n138488                 NaN            NaN                NaN   \n138489                 NaN            NaN                NaN   \n138490                 NaN            NaN                NaN   \n138491                 NaN            NaN                NaN   \n138492                 NaN            NaN                NaN   \n\ntitle   Zoolander (2001)  Zulu (1964)  [REC] (2007)  eXistenZ (1999)  \\\n0                    NaN          NaN           NaN              NaN   \n1                    NaN          NaN           NaN              NaN   \n2                    NaN          NaN           NaN              NaN   \n3                    NaN          NaN           NaN              NaN   \n4                    NaN          NaN           NaN              NaN   \n...                  ...          ...           ...              ...   \n138488               NaN          NaN           NaN              NaN   \n138489               NaN          NaN           NaN              NaN   \n138490               NaN          NaN           NaN              NaN   \n138491               NaN          NaN           NaN              NaN   \n138492               NaN          NaN           NaN              NaN   \n\ntitle   xXx (2002)  ¡Three Amigos! (1986)  \n0              NaN                    NaN  \n1              NaN                    NaN  \n2              NaN                    NaN  \n3              NaN                    NaN  \n4              NaN                    NaN  \n...            ...                    ...  \n138488         NaN                    NaN  \n138489         NaN                    NaN  \n138490         NaN                    NaN  \n138491         NaN                    NaN  \n138492         NaN                    NaN  \n\n[138493 rows x 3160 columns]",
      "text/html": "<div>\n<style scoped>\n    .dataframe tbody tr th:only-of-type {\n        vertical-align: middle;\n    }\n\n    .dataframe tbody tr th {\n        vertical-align: top;\n    }\n\n    .dataframe thead th {\n        text-align: right;\n    }\n</style>\n<table border=\"1\" class=\"dataframe\">\n  <thead>\n    <tr style=\"text-align: right;\">\n      <th>title</th>\n      <th>userId</th>\n      <th>'burbs, The (1989)</th>\n      <th>(500) Days of Summer (2009)</th>\n      <th>*batteries not included (1987)</th>\n      <th>...And Justice for All (1979)</th>\n      <th>10 Things I Hate About You (1999)</th>\n      <th>10,000 BC (2008)</th>\n      <th>101 Dalmatians (1996)</th>\n      <th>101 Dalmatians (One Hundred and One Dalmatians) (1961)</th>\n      <th>102 Dalmatians (2000)</th>\n      <th>...</th>\n      <th>Zero Dark Thirty (2012)</th>\n      <th>Zero Effect (1998)</th>\n      <th>Zodiac (2007)</th>\n      <th>Zombieland (2009)</th>\n      <th>Zoolander (2001)</th>\n      <th>Zulu (1964)</th>\n      <th>[REC] (2007)</th>\n      <th>eXistenZ (1999)</th>\n      <th>xXx (2002)</th>\n      <th>¡Three Amigos! (1986)</th>\n    </tr>\n  </thead>\n  <tbody>\n    <tr>\n      <th>0</th>\n      <td>1.0</td>\n      <td>NaN</td>\n      <td>NaN</td>\n      <td>NaN</td>\n      <td>NaN</td>\n      <td>NaN</td>\n      <td>NaN</td>\n      <td>NaN</td>\n      <td>NaN</td>\n      <td>NaN</td>\n      <td>...</td>\n      <td>NaN</td>\n      <td>NaN</td>\n      <td>NaN</td>\n      <td>NaN</td>\n      <td>NaN</td>\n      <td>NaN</td>\n      <td>NaN</td>\n      <td>NaN</td>\n      <td>NaN</td>\n      <td>NaN</td>\n    </tr>\n    <tr>\n      <th>1</th>\n      <td>2.0</td>\n      <td>NaN</td>\n      <td>NaN</td>\n      <td>NaN</td>\n      <td>NaN</td>\n      <td>NaN</td>\n      <td>NaN</td>\n      <td>NaN</td>\n      <td>NaN</td>\n      <td>NaN</td>\n      <td>...</td>\n      <td>NaN</td>\n      <td>NaN</td>\n      <td>NaN</td>\n      <td>NaN</td>\n      <td>NaN</td>\n      <td>NaN</td>\n      <td>NaN</td>\n      <td>NaN</td>\n      <td>NaN</td>\n      <td>NaN</td>\n    </tr>\n    <tr>\n      <th>2</th>\n      <td>3.0</td>\n      <td>NaN</td>\n      <td>NaN</td>\n      <td>NaN</td>\n      <td>NaN</td>\n      <td>NaN</td>\n      <td>NaN</td>\n      <td>NaN</td>\n      <td>NaN</td>\n      <td>NaN</td>\n      <td>...</td>\n      <td>NaN</td>\n      <td>NaN</td>\n      <td>NaN</td>\n      <td>NaN</td>\n      <td>NaN</td>\n      <td>NaN</td>\n      <td>NaN</td>\n      <td>NaN</td>\n      <td>NaN</td>\n      <td>NaN</td>\n    </tr>\n    <tr>\n      <th>3</th>\n      <td>4.0</td>\n      <td>NaN</td>\n      <td>NaN</td>\n      <td>NaN</td>\n      <td>NaN</td>\n      <td>NaN</td>\n      <td>NaN</td>\n      <td>NaN</td>\n      <td>NaN</td>\n      <td>NaN</td>\n      <td>...</td>\n      <td>NaN</td>\n      <td>NaN</td>\n      <td>NaN</td>\n      <td>NaN</td>\n      <td>NaN</td>\n      <td>NaN</td>\n      <td>NaN</td>\n      <td>NaN</td>\n      <td>NaN</td>\n      <td>NaN</td>\n    </tr>\n    <tr>\n      <th>4</th>\n      <td>5.0</td>\n      <td>NaN</td>\n      <td>NaN</td>\n      <td>NaN</td>\n      <td>NaN</td>\n      <td>NaN</td>\n      <td>NaN</td>\n      <td>NaN</td>\n      <td>NaN</td>\n      <td>NaN</td>\n      <td>...</td>\n      <td>NaN</td>\n      <td>NaN</td>\n      <td>NaN</td>\n      <td>NaN</td>\n      <td>NaN</td>\n      <td>NaN</td>\n      <td>NaN</td>\n      <td>NaN</td>\n      <td>NaN</td>\n      <td>NaN</td>\n    </tr>\n    <tr>\n      <th>...</th>\n      <td>...</td>\n      <td>...</td>\n      <td>...</td>\n      <td>...</td>\n      <td>...</td>\n      <td>...</td>\n      <td>...</td>\n      <td>...</td>\n      <td>...</td>\n      <td>...</td>\n      <td>...</td>\n      <td>...</td>\n      <td>...</td>\n      <td>...</td>\n      <td>...</td>\n      <td>...</td>\n      <td>...</td>\n      <td>...</td>\n      <td>...</td>\n      <td>...</td>\n      <td>...</td>\n    </tr>\n    <tr>\n      <th>138488</th>\n      <td>138489.0</td>\n      <td>NaN</td>\n      <td>NaN</td>\n      <td>NaN</td>\n      <td>NaN</td>\n      <td>NaN</td>\n      <td>NaN</td>\n      <td>NaN</td>\n      <td>NaN</td>\n      <td>NaN</td>\n      <td>...</td>\n      <td>NaN</td>\n      <td>NaN</td>\n      <td>NaN</td>\n      <td>NaN</td>\n      <td>NaN</td>\n      <td>NaN</td>\n      <td>NaN</td>\n      <td>NaN</td>\n      <td>NaN</td>\n      <td>NaN</td>\n    </tr>\n    <tr>\n      <th>138489</th>\n      <td>138490.0</td>\n      <td>NaN</td>\n      <td>NaN</td>\n      <td>NaN</td>\n      <td>NaN</td>\n      <td>NaN</td>\n      <td>NaN</td>\n      <td>NaN</td>\n      <td>NaN</td>\n      <td>NaN</td>\n      <td>...</td>\n      <td>NaN</td>\n      <td>NaN</td>\n      <td>NaN</td>\n      <td>NaN</td>\n      <td>NaN</td>\n      <td>NaN</td>\n      <td>NaN</td>\n      <td>NaN</td>\n      <td>NaN</td>\n      <td>NaN</td>\n    </tr>\n    <tr>\n      <th>138490</th>\n      <td>138491.0</td>\n      <td>NaN</td>\n      <td>NaN</td>\n      <td>NaN</td>\n      <td>NaN</td>\n      <td>NaN</td>\n      <td>NaN</td>\n      <td>NaN</td>\n      <td>2.5</td>\n      <td>NaN</td>\n      <td>...</td>\n      <td>NaN</td>\n      <td>NaN</td>\n      <td>NaN</td>\n      <td>NaN</td>\n      <td>NaN</td>\n      <td>NaN</td>\n      <td>NaN</td>\n      <td>NaN</td>\n      <td>NaN</td>\n      <td>NaN</td>\n    </tr>\n    <tr>\n      <th>138491</th>\n      <td>138492.0</td>\n      <td>NaN</td>\n      <td>NaN</td>\n      <td>NaN</td>\n      <td>NaN</td>\n      <td>NaN</td>\n      <td>NaN</td>\n      <td>NaN</td>\n      <td>NaN</td>\n      <td>NaN</td>\n      <td>...</td>\n      <td>NaN</td>\n      <td>NaN</td>\n      <td>NaN</td>\n      <td>NaN</td>\n      <td>NaN</td>\n      <td>NaN</td>\n      <td>NaN</td>\n      <td>NaN</td>\n      <td>NaN</td>\n      <td>NaN</td>\n    </tr>\n    <tr>\n      <th>138492</th>\n      <td>138493.0</td>\n      <td>NaN</td>\n      <td>NaN</td>\n      <td>NaN</td>\n      <td>NaN</td>\n      <td>NaN</td>\n      <td>NaN</td>\n      <td>3.0</td>\n      <td>3.5</td>\n      <td>NaN</td>\n      <td>...</td>\n      <td>NaN</td>\n      <td>NaN</td>\n      <td>NaN</td>\n      <td>NaN</td>\n      <td>NaN</td>\n      <td>NaN</td>\n      <td>NaN</td>\n      <td>NaN</td>\n      <td>NaN</td>\n      <td>NaN</td>\n    </tr>\n  </tbody>\n</table>\n<p>138493 rows × 3160 columns</p>\n</div>"
     },
     "metadata": {}
    }
   ]
  },
  {
   "cell_type": "code",
   "source": [
    "#\n",
    "user = 108170\n",
    "user_df = user_movie_df[user_movie_df.index == user]\n"
   ],
   "metadata": {
    "execution": {
     "iopub.status.busy": "2021-06-13T05:33:04.277509Z",
     "iopub.execute_input": "2021-06-13T05:33:04.277985Z",
     "iopub.status.idle": "2021-06-13T05:33:04.284833Z",
     "shell.execute_reply.started": "2021-06-13T05:33:04.277924Z",
     "shell.execute_reply": "2021-06-13T05:33:04.283666Z"
    },
    "trusted": true
   },
   "execution_count": 6,
   "outputs": []
  },
  {
   "cell_type": "code",
   "source": [
    "user_df.shape"
   ],
   "metadata": {
    "execution": {
     "iopub.status.busy": "2021-06-13T05:33:12.201730Z",
     "iopub.execute_input": "2021-06-13T05:33:12.202199Z",
     "iopub.status.idle": "2021-06-13T05:33:12.212152Z",
     "shell.execute_reply.started": "2021-06-13T05:33:12.202160Z",
     "shell.execute_reply": "2021-06-13T05:33:12.210870Z"
    },
    "trusted": true
   },
   "execution_count": 7,
   "outputs": [
    {
     "execution_count": 7,
     "output_type": "execute_result",
     "data": {
      "text/plain": "(1, 3159)"
     },
     "metadata": {}
    }
   ]
  },
  {
   "cell_type": "code",
   "source": [
    "# or user_df = df[df.index == user], watched_movie = user_df[\"title\"].tolist()\n",
    "watched_movie = user_df.columns[user_df.notna().any()].tolist()"
   ],
   "metadata": {
    "execution": {
     "iopub.status.busy": "2021-06-13T05:33:36.459934Z",
     "iopub.execute_input": "2021-06-13T05:33:36.460507Z",
     "iopub.status.idle": "2021-06-13T05:33:36.478253Z",
     "shell.execute_reply.started": "2021-06-13T05:33:36.460463Z",
     "shell.execute_reply": "2021-06-13T05:33:36.477195Z"
    },
    "trusted": true
   },
   "execution_count": 8,
   "outputs": []
  },
  {
   "cell_type": "code",
   "source": [
    "len(watched_movie)"
   ],
   "metadata": {
    "execution": {
     "iopub.status.busy": "2021-06-13T05:33:39.521631Z",
     "iopub.execute_input": "2021-06-13T05:33:39.522110Z",
     "iopub.status.idle": "2021-06-13T05:33:39.529596Z",
     "shell.execute_reply.started": "2021-06-13T05:33:39.522070Z",
     "shell.execute_reply": "2021-06-13T05:33:39.528430Z"
    },
    "trusted": true
   },
   "execution_count": 9,
   "outputs": [
    {
     "execution_count": 9,
     "output_type": "execute_result",
     "data": {
      "text/plain": "186"
     },
     "metadata": {}
    }
   ]
  },
  {
   "cell_type": "code",
   "source": [
    "perc = len(watched_movie)*60/100\n",
    "perc"
   ],
   "metadata": {
    "execution": {
     "iopub.status.busy": "2021-06-13T05:33:49.925029Z",
     "iopub.execute_input": "2021-06-13T05:33:49.925451Z",
     "iopub.status.idle": "2021-06-13T05:33:49.932256Z",
     "shell.execute_reply.started": "2021-06-13T05:33:49.925417Z",
     "shell.execute_reply": "2021-06-13T05:33:49.931092Z"
    },
    "trusted": true
   },
   "execution_count": 10,
   "outputs": [
    {
     "execution_count": 10,
     "output_type": "execute_result",
     "data": {
      "text/plain": "111.6"
     },
     "metadata": {}
    }
   ]
  },
  {
   "cell_type": "code",
   "source": [
    "# 3 the other customers that watched the same movies\n",
    "movies_watched_df = user_movie_df[watched_movie]"
   ],
   "metadata": {
    "execution": {
     "iopub.status.busy": "2021-06-13T05:33:53.289921Z",
     "iopub.execute_input": "2021-06-13T05:33:53.290380Z",
     "iopub.status.idle": "2021-06-13T05:33:53.634157Z",
     "shell.execute_reply.started": "2021-06-13T05:33:53.290343Z",
     "shell.execute_reply": "2021-06-13T05:33:53.632948Z"
    },
    "trusted": true
   },
   "execution_count": 11,
   "outputs": []
  },
  {
   "cell_type": "code",
   "source": [
    "movies_watched_df.T.head()"
   ],
   "metadata": {
    "execution": {
     "iopub.status.busy": "2021-06-13T05:34:01.278734Z",
     "iopub.execute_input": "2021-06-13T05:34:01.279187Z",
     "iopub.status.idle": "2021-06-13T05:34:01.325651Z",
     "shell.execute_reply.started": "2021-06-13T05:34:01.279148Z",
     "shell.execute_reply": "2021-06-13T05:34:01.324733Z"
    },
    "trusted": true
   },
   "execution_count": 12,
   "outputs": [
    {
     "execution_count": 12,
     "output_type": "execute_result",
     "data": {
      "text/plain": "userId                                              1.0       2.0       \\\ntitle                                                                    \n2001: A Space Odyssey (1968)                             3.5       5.0   \nAdventures of Priscilla, Queen of the Desert, T...       NaN       NaN   \nAkira (1988)                                             NaN       NaN   \nAladdin (1992)                                           NaN       NaN   \nAliens (1986)                                            4.0       NaN   \n\nuserId                                              3.0       4.0       \\\ntitle                                                                    \n2001: A Space Odyssey (1968)                             5.0       NaN   \nAdventures of Priscilla, Queen of the Desert, T...       NaN       NaN   \nAkira (1988)                                             NaN       NaN   \nAladdin (1992)                                           NaN       NaN   \nAliens (1986)                                            4.0       NaN   \n\nuserId                                              5.0       6.0       \\\ntitle                                                                    \n2001: A Space Odyssey (1968)                             NaN       NaN   \nAdventures of Priscilla, Queen of the Desert, T...       NaN       NaN   \nAkira (1988)                                             NaN       NaN   \nAladdin (1992)                                           5.0       NaN   \nAliens (1986)                                            NaN       NaN   \n\nuserId                                              7.0       8.0       \\\ntitle                                                                    \n2001: A Space Odyssey (1968)                             3.0       NaN   \nAdventures of Priscilla, Queen of the Desert, T...       NaN       NaN   \nAkira (1988)                                             NaN       NaN   \nAladdin (1992)                                           NaN       3.0   \nAliens (1986)                                            NaN       NaN   \n\nuserId                                              9.0       10.0      ...  \\\ntitle                                                                   ...   \n2001: A Space Odyssey (1968)                             NaN       NaN  ...   \nAdventures of Priscilla, Queen of the Desert, T...       NaN       NaN  ...   \nAkira (1988)                                             NaN       NaN  ...   \nAladdin (1992)                                           NaN       NaN  ...   \nAliens (1986)                                            NaN       NaN  ...   \n\nuserId                                              138484.0  138485.0  \\\ntitle                                                                    \n2001: A Space Odyssey (1968)                             NaN       NaN   \nAdventures of Priscilla, Queen of the Desert, T...       NaN       NaN   \nAkira (1988)                                             NaN       NaN   \nAladdin (1992)                                           2.0       NaN   \nAliens (1986)                                            NaN       NaN   \n\nuserId                                              138486.0  138487.0  \\\ntitle                                                                    \n2001: A Space Odyssey (1968)                             NaN       NaN   \nAdventures of Priscilla, Queen of the Desert, T...       NaN       NaN   \nAkira (1988)                                             NaN       NaN   \nAladdin (1992)                                           3.0       NaN   \nAliens (1986)                                            NaN       NaN   \n\nuserId                                              138488.0  138489.0  \\\ntitle                                                                    \n2001: A Space Odyssey (1968)                             NaN       NaN   \nAdventures of Priscilla, Queen of the Desert, T...       NaN       NaN   \nAkira (1988)                                             NaN       NaN   \nAladdin (1992)                                           NaN       NaN   \nAliens (1986)                                            NaN       NaN   \n\nuserId                                              138490.0  138491.0  \\\ntitle                                                                    \n2001: A Space Odyssey (1968)                             NaN       NaN   \nAdventures of Priscilla, Queen of the Desert, T...       4.0       NaN   \nAkira (1988)                                             NaN       NaN   \nAladdin (1992)                                           NaN       NaN   \nAliens (1986)                                            NaN       NaN   \n\nuserId                                              138492.0  138493.0  \ntitle                                                                   \n2001: A Space Odyssey (1968)                             NaN       NaN  \nAdventures of Priscilla, Queen of the Desert, T...       NaN       NaN  \nAkira (1988)                                             NaN       NaN  \nAladdin (1992)                                           NaN       4.5  \nAliens (1986)                                            NaN       4.5  \n\n[5 rows x 138493 columns]",
      "text/html": "<div>\n<style scoped>\n    .dataframe tbody tr th:only-of-type {\n        vertical-align: middle;\n    }\n\n    .dataframe tbody tr th {\n        vertical-align: top;\n    }\n\n    .dataframe thead th {\n        text-align: right;\n    }\n</style>\n<table border=\"1\" class=\"dataframe\">\n  <thead>\n    <tr style=\"text-align: right;\">\n      <th>userId</th>\n      <th>1.0</th>\n      <th>2.0</th>\n      <th>3.0</th>\n      <th>4.0</th>\n      <th>5.0</th>\n      <th>6.0</th>\n      <th>7.0</th>\n      <th>8.0</th>\n      <th>9.0</th>\n      <th>10.0</th>\n      <th>...</th>\n      <th>138484.0</th>\n      <th>138485.0</th>\n      <th>138486.0</th>\n      <th>138487.0</th>\n      <th>138488.0</th>\n      <th>138489.0</th>\n      <th>138490.0</th>\n      <th>138491.0</th>\n      <th>138492.0</th>\n      <th>138493.0</th>\n    </tr>\n    <tr>\n      <th>title</th>\n      <th></th>\n      <th></th>\n      <th></th>\n      <th></th>\n      <th></th>\n      <th></th>\n      <th></th>\n      <th></th>\n      <th></th>\n      <th></th>\n      <th></th>\n      <th></th>\n      <th></th>\n      <th></th>\n      <th></th>\n      <th></th>\n      <th></th>\n      <th></th>\n      <th></th>\n      <th></th>\n      <th></th>\n    </tr>\n  </thead>\n  <tbody>\n    <tr>\n      <th>2001: A Space Odyssey (1968)</th>\n      <td>3.5</td>\n      <td>5.0</td>\n      <td>5.0</td>\n      <td>NaN</td>\n      <td>NaN</td>\n      <td>NaN</td>\n      <td>3.0</td>\n      <td>NaN</td>\n      <td>NaN</td>\n      <td>NaN</td>\n      <td>...</td>\n      <td>NaN</td>\n      <td>NaN</td>\n      <td>NaN</td>\n      <td>NaN</td>\n      <td>NaN</td>\n      <td>NaN</td>\n      <td>NaN</td>\n      <td>NaN</td>\n      <td>NaN</td>\n      <td>NaN</td>\n    </tr>\n    <tr>\n      <th>Adventures of Priscilla, Queen of the Desert, The (1994)</th>\n      <td>NaN</td>\n      <td>NaN</td>\n      <td>NaN</td>\n      <td>NaN</td>\n      <td>NaN</td>\n      <td>NaN</td>\n      <td>NaN</td>\n      <td>NaN</td>\n      <td>NaN</td>\n      <td>NaN</td>\n      <td>...</td>\n      <td>NaN</td>\n      <td>NaN</td>\n      <td>NaN</td>\n      <td>NaN</td>\n      <td>NaN</td>\n      <td>NaN</td>\n      <td>4.0</td>\n      <td>NaN</td>\n      <td>NaN</td>\n      <td>NaN</td>\n    </tr>\n    <tr>\n      <th>Akira (1988)</th>\n      <td>NaN</td>\n      <td>NaN</td>\n      <td>NaN</td>\n      <td>NaN</td>\n      <td>NaN</td>\n      <td>NaN</td>\n      <td>NaN</td>\n      <td>NaN</td>\n      <td>NaN</td>\n      <td>NaN</td>\n      <td>...</td>\n      <td>NaN</td>\n      <td>NaN</td>\n      <td>NaN</td>\n      <td>NaN</td>\n      <td>NaN</td>\n      <td>NaN</td>\n      <td>NaN</td>\n      <td>NaN</td>\n      <td>NaN</td>\n      <td>NaN</td>\n    </tr>\n    <tr>\n      <th>Aladdin (1992)</th>\n      <td>NaN</td>\n      <td>NaN</td>\n      <td>NaN</td>\n      <td>NaN</td>\n      <td>5.0</td>\n      <td>NaN</td>\n      <td>NaN</td>\n      <td>3.0</td>\n      <td>NaN</td>\n      <td>NaN</td>\n      <td>...</td>\n      <td>2.0</td>\n      <td>NaN</td>\n      <td>3.0</td>\n      <td>NaN</td>\n      <td>NaN</td>\n      <td>NaN</td>\n      <td>NaN</td>\n      <td>NaN</td>\n      <td>NaN</td>\n      <td>4.5</td>\n    </tr>\n    <tr>\n      <th>Aliens (1986)</th>\n      <td>4.0</td>\n      <td>NaN</td>\n      <td>4.0</td>\n      <td>NaN</td>\n      <td>NaN</td>\n      <td>NaN</td>\n      <td>NaN</td>\n      <td>NaN</td>\n      <td>NaN</td>\n      <td>NaN</td>\n      <td>...</td>\n      <td>NaN</td>\n      <td>NaN</td>\n      <td>NaN</td>\n      <td>NaN</td>\n      <td>NaN</td>\n      <td>NaN</td>\n      <td>NaN</td>\n      <td>NaN</td>\n      <td>NaN</td>\n      <td>4.5</td>\n    </tr>\n  </tbody>\n</table>\n<p>5 rows × 138493 columns</p>\n</div>"
     },
     "metadata": {}
    }
   ]
  },
  {
   "cell_type": "code",
   "source": [
    "movies_watched_df.shape"
   ],
   "metadata": {
    "execution": {
     "iopub.status.busy": "2021-06-13T05:34:04.515931Z",
     "iopub.execute_input": "2021-06-13T05:34:04.516430Z",
     "iopub.status.idle": "2021-06-13T05:34:04.521898Z",
     "shell.execute_reply.started": "2021-06-13T05:34:04.516392Z",
     "shell.execute_reply": "2021-06-13T05:34:04.521159Z"
    },
    "trusted": true
   },
   "execution_count": 13,
   "outputs": [
    {
     "execution_count": 13,
     "output_type": "execute_result",
     "data": {
      "text/plain": "(138493, 186)"
     },
     "metadata": {}
    }
   ]
  },
  {
   "cell_type": "code",
   "source": [
    " movies_watched_df.notnull().sum()"
   ],
   "metadata": {
    "execution": {
     "iopub.status.busy": "2021-06-13T05:34:23.334317Z",
     "iopub.execute_input": "2021-06-13T05:34:23.334894Z",
     "iopub.status.idle": "2021-06-13T05:34:23.405826Z",
     "shell.execute_reply.started": "2021-06-13T05:34:23.334843Z",
     "shell.execute_reply": "2021-06-13T05:34:23.404925Z"
    },
    "trusted": true
   },
   "execution_count": 15,
   "outputs": [
    {
     "execution_count": 15,
     "output_type": "execute_result",
     "data": {
      "text/plain": "title\n2001: A Space Odyssey (1968)                                25253\nAdventures of Priscilla, Queen of the Desert, The (1994)    10312\nAkira (1988)                                                 8324\nAladdin (1992)                                              41844\nAliens (1986)                                               27206\n                                                            ...  \nWedding Singer, The (1998)                                  13384\nWho Framed Roger Rabbit? (1988)                             21739\nWild at Heart (1990)                                         1537\nWillow (1988)                                                9217\nX2: X-Men United (2003)                                     15573\nLength: 186, dtype: int64"
     },
     "metadata": {}
    }
   ]
  },
  {
   "cell_type": "code",
   "source": [
    "user_movie_count = movies_watched_df.T.notnull().sum()"
   ],
   "metadata": {
    "execution": {
     "iopub.status.busy": "2021-06-13T05:34:29.252445Z",
     "iopub.execute_input": "2021-06-13T05:34:29.252893Z",
     "iopub.status.idle": "2021-06-13T05:34:29.730463Z",
     "shell.execute_reply.started": "2021-06-13T05:34:29.252847Z",
     "shell.execute_reply": "2021-06-13T05:34:29.729340Z"
    },
    "trusted": true
   },
   "execution_count": 16,
   "outputs": []
  },
  {
   "cell_type": "code",
   "source": [
    "user_movie_count = user_movie_count.reset_index()"
   ],
   "metadata": {
    "execution": {
     "iopub.status.busy": "2021-06-13T05:34:34.953665Z",
     "iopub.execute_input": "2021-06-13T05:34:34.954107Z",
     "iopub.status.idle": "2021-06-13T05:34:34.961573Z",
     "shell.execute_reply.started": "2021-06-13T05:34:34.954067Z",
     "shell.execute_reply": "2021-06-13T05:34:34.960470Z"
    },
    "trusted": true
   },
   "execution_count": 17,
   "outputs": []
  },
  {
   "cell_type": "code",
   "source": [
    "user_movie_count.head()"
   ],
   "metadata": {
    "execution": {
     "iopub.status.busy": "2021-06-13T05:34:37.771079Z",
     "iopub.execute_input": "2021-06-13T05:34:37.771511Z",
     "iopub.status.idle": "2021-06-13T05:34:37.783614Z",
     "shell.execute_reply.started": "2021-06-13T05:34:37.771467Z",
     "shell.execute_reply": "2021-06-13T05:34:37.782543Z"
    },
    "trusted": true
   },
   "execution_count": 18,
   "outputs": [
    {
     "execution_count": 18,
     "output_type": "execute_result",
     "data": {
      "text/plain": "   userId   0\n0     1.0  53\n1     2.0  11\n2     3.0  47\n3     4.0   5\n4     5.0  16",
      "text/html": "<div>\n<style scoped>\n    .dataframe tbody tr th:only-of-type {\n        vertical-align: middle;\n    }\n\n    .dataframe tbody tr th {\n        vertical-align: top;\n    }\n\n    .dataframe thead th {\n        text-align: right;\n    }\n</style>\n<table border=\"1\" class=\"dataframe\">\n  <thead>\n    <tr style=\"text-align: right;\">\n      <th></th>\n      <th>userId</th>\n      <th>0</th>\n    </tr>\n  </thead>\n  <tbody>\n    <tr>\n      <th>0</th>\n      <td>1.0</td>\n      <td>53</td>\n    </tr>\n    <tr>\n      <th>1</th>\n      <td>2.0</td>\n      <td>11</td>\n    </tr>\n    <tr>\n      <th>2</th>\n      <td>3.0</td>\n      <td>47</td>\n    </tr>\n    <tr>\n      <th>3</th>\n      <td>4.0</td>\n      <td>5</td>\n    </tr>\n    <tr>\n      <th>4</th>\n      <td>5.0</td>\n      <td>16</td>\n    </tr>\n  </tbody>\n</table>\n</div>"
     },
     "metadata": {}
    }
   ]
  },
  {
   "cell_type": "code",
   "source": [
    "user_movie_count.columns = [\"userId\", \"movie_count\"]\n",
    "user_movie_count.head()"
   ],
   "metadata": {
    "execution": {
     "iopub.status.busy": "2021-06-13T05:34:41.429965Z",
     "iopub.execute_input": "2021-06-13T05:34:41.430436Z",
     "iopub.status.idle": "2021-06-13T05:34:41.443132Z",
     "shell.execute_reply.started": "2021-06-13T05:34:41.430392Z",
     "shell.execute_reply": "2021-06-13T05:34:41.442080Z"
    },
    "trusted": true
   },
   "execution_count": 19,
   "outputs": [
    {
     "execution_count": 19,
     "output_type": "execute_result",
     "data": {
      "text/plain": "   userId  movie_count\n0     1.0           53\n1     2.0           11\n2     3.0           47\n3     4.0            5\n4     5.0           16",
      "text/html": "<div>\n<style scoped>\n    .dataframe tbody tr th:only-of-type {\n        vertical-align: middle;\n    }\n\n    .dataframe tbody tr th {\n        vertical-align: top;\n    }\n\n    .dataframe thead th {\n        text-align: right;\n    }\n</style>\n<table border=\"1\" class=\"dataframe\">\n  <thead>\n    <tr style=\"text-align: right;\">\n      <th></th>\n      <th>userId</th>\n      <th>movie_count</th>\n    </tr>\n  </thead>\n  <tbody>\n    <tr>\n      <th>0</th>\n      <td>1.0</td>\n      <td>53</td>\n    </tr>\n    <tr>\n      <th>1</th>\n      <td>2.0</td>\n      <td>11</td>\n    </tr>\n    <tr>\n      <th>2</th>\n      <td>3.0</td>\n      <td>47</td>\n    </tr>\n    <tr>\n      <th>3</th>\n      <td>4.0</td>\n      <td>5</td>\n    </tr>\n    <tr>\n      <th>4</th>\n      <td>5.0</td>\n      <td>16</td>\n    </tr>\n  </tbody>\n</table>\n</div>"
     },
     "metadata": {}
    }
   ]
  },
  {
   "cell_type": "code",
   "source": [
    "user_movie_count[user_movie_count[\"movie_count\"] > perc].sort_values(\"movie_count\", ascending=False)\n"
   ],
   "metadata": {
    "execution": {
     "iopub.status.busy": "2021-06-13T05:34:44.650588Z",
     "iopub.execute_input": "2021-06-13T05:34:44.651054Z",
     "iopub.status.idle": "2021-06-13T05:34:44.674077Z",
     "shell.execute_reply.started": "2021-06-13T05:34:44.651017Z",
     "shell.execute_reply": "2021-06-13T05:34:44.673042Z"
    },
    "trusted": true
   },
   "execution_count": 20,
   "outputs": [
    {
     "execution_count": 20,
     "output_type": "execute_result",
     "data": {
      "text/plain": "          userId  movie_count\n108169  108170.0          186\n8404      8405.0          185\n118204  118205.0          184\n74141    74142.0          183\n69792    69793.0          182\n...          ...          ...\n20027    20028.0          112\n19527    19528.0          112\n19257    19258.0          112\n117285  117286.0          112\n69933    69934.0          112\n\n[2326 rows x 2 columns]",
      "text/html": "<div>\n<style scoped>\n    .dataframe tbody tr th:only-of-type {\n        vertical-align: middle;\n    }\n\n    .dataframe tbody tr th {\n        vertical-align: top;\n    }\n\n    .dataframe thead th {\n        text-align: right;\n    }\n</style>\n<table border=\"1\" class=\"dataframe\">\n  <thead>\n    <tr style=\"text-align: right;\">\n      <th></th>\n      <th>userId</th>\n      <th>movie_count</th>\n    </tr>\n  </thead>\n  <tbody>\n    <tr>\n      <th>108169</th>\n      <td>108170.0</td>\n      <td>186</td>\n    </tr>\n    <tr>\n      <th>8404</th>\n      <td>8405.0</td>\n      <td>185</td>\n    </tr>\n    <tr>\n      <th>118204</th>\n      <td>118205.0</td>\n      <td>184</td>\n    </tr>\n    <tr>\n      <th>74141</th>\n      <td>74142.0</td>\n      <td>183</td>\n    </tr>\n    <tr>\n      <th>69792</th>\n      <td>69793.0</td>\n      <td>182</td>\n    </tr>\n    <tr>\n      <th>...</th>\n      <td>...</td>\n      <td>...</td>\n    </tr>\n    <tr>\n      <th>20027</th>\n      <td>20028.0</td>\n      <td>112</td>\n    </tr>\n    <tr>\n      <th>19527</th>\n      <td>19528.0</td>\n      <td>112</td>\n    </tr>\n    <tr>\n      <th>19257</th>\n      <td>19258.0</td>\n      <td>112</td>\n    </tr>\n    <tr>\n      <th>117285</th>\n      <td>117286.0</td>\n      <td>112</td>\n    </tr>\n    <tr>\n      <th>69933</th>\n      <td>69934.0</td>\n      <td>112</td>\n    </tr>\n  </tbody>\n</table>\n<p>2326 rows × 2 columns</p>\n</div>"
     },
     "metadata": {}
    }
   ]
  },
  {
   "cell_type": "code",
   "source": [
    "users_same_movies = user_movie_count[user_movie_count[\"movie_count\"] > perc][\"userId\"]"
   ],
   "metadata": {
    "execution": {
     "iopub.status.busy": "2021-06-13T05:34:49.495845Z",
     "iopub.execute_input": "2021-06-13T05:34:49.496357Z",
     "iopub.status.idle": "2021-06-13T05:34:49.503724Z",
     "shell.execute_reply.started": "2021-06-13T05:34:49.496314Z",
     "shell.execute_reply": "2021-06-13T05:34:49.502656Z"
    },
    "trusted": true
   },
   "execution_count": 21,
   "outputs": []
  },
  {
   "cell_type": "code",
   "source": [
    "users_same_movies.shape"
   ],
   "metadata": {
    "execution": {
     "iopub.status.busy": "2021-06-13T05:34:53.802247Z",
     "iopub.execute_input": "2021-06-13T05:34:53.802688Z",
     "iopub.status.idle": "2021-06-13T05:34:53.809298Z",
     "shell.execute_reply.started": "2021-06-13T05:34:53.802653Z",
     "shell.execute_reply": "2021-06-13T05:34:53.808214Z"
    },
    "trusted": true
   },
   "execution_count": 22,
   "outputs": [
    {
     "execution_count": 22,
     "output_type": "execute_result",
     "data": {
      "text/plain": "(2326,)"
     },
     "metadata": {}
    }
   ]
  },
  {
   "cell_type": "code",
   "source": [
    "# \n",
    "final_df = pd.concat([movies_watched_df[movies_watched_df.index.isin(users_same_movies.index)],\n",
    "                      user_df[watched_movie]])\n"
   ],
   "metadata": {
    "execution": {
     "iopub.status.busy": "2021-06-13T05:38:47.648905Z",
     "iopub.execute_input": "2021-06-13T05:38:47.649288Z",
     "iopub.status.idle": "2021-06-13T05:38:47.664260Z",
     "shell.execute_reply.started": "2021-06-13T05:38:47.649259Z",
     "shell.execute_reply": "2021-06-13T05:38:47.663039Z"
    },
    "trusted": true
   },
   "execution_count": 26,
   "outputs": []
  },
  {
   "cell_type": "code",
   "source": [
    "movies_watched_df[movies_watched_df.index.isin(users_same_movies.index)].shape"
   ],
   "metadata": {
    "execution": {
     "iopub.status.busy": "2021-06-13T05:39:43.817907Z",
     "iopub.execute_input": "2021-06-13T05:39:43.818566Z",
     "iopub.status.idle": "2021-06-13T05:39:43.833854Z",
     "shell.execute_reply.started": "2021-06-13T05:39:43.818528Z",
     "shell.execute_reply": "2021-06-13T05:39:43.832448Z"
    },
    "trusted": true
   },
   "execution_count": 30,
   "outputs": [
    {
     "execution_count": 30,
     "output_type": "execute_result",
     "data": {
      "text/plain": "(2326, 186)"
     },
     "metadata": {}
    }
   ]
  },
  {
   "cell_type": "code",
   "source": [
    "final_df.shape"
   ],
   "metadata": {
    "execution": {
     "iopub.status.busy": "2021-06-13T05:39:06.984027Z",
     "iopub.execute_input": "2021-06-13T05:39:06.984682Z",
     "iopub.status.idle": "2021-06-13T05:39:06.990040Z",
     "shell.execute_reply.started": "2021-06-13T05:39:06.984643Z",
     "shell.execute_reply": "2021-06-13T05:39:06.989327Z"
    },
    "trusted": true
   },
   "execution_count": 28,
   "outputs": [
    {
     "execution_count": 28,
     "output_type": "execute_result",
     "data": {
      "text/plain": "(2327, 186)"
     },
     "metadata": {}
    }
   ]
  },
  {
   "cell_type": "code",
   "source": [
    "# correlation\n",
    "corr_df = final_df.T.corr().unstack().sort_values().drop_duplicates()"
   ],
   "metadata": {
    "execution": {
     "iopub.status.busy": "2021-06-13T05:41:44.275149Z",
     "iopub.execute_input": "2021-06-13T05:41:44.275889Z",
     "iopub.status.idle": "2021-06-13T05:41:46.265287Z",
     "shell.execute_reply.started": "2021-06-13T05:41:44.275836Z",
     "shell.execute_reply": "2021-06-13T05:41:46.264235Z"
    },
    "trusted": true
   },
   "execution_count": 31,
   "outputs": []
  },
  {
   "cell_type": "code",
   "source": [
    "corr_df.head()"
   ],
   "metadata": {
    "execution": {
     "iopub.status.busy": "2021-06-13T05:42:10.366124Z",
     "iopub.execute_input": "2021-06-13T05:42:10.366790Z",
     "iopub.status.idle": "2021-06-13T05:42:10.378402Z",
     "shell.execute_reply.started": "2021-06-13T05:42:10.366737Z",
     "shell.execute_reply": "2021-06-13T05:42:10.377078Z"
    },
    "trusted": true
   },
   "execution_count": 33,
   "outputs": [
    {
     "execution_count": 33,
     "output_type": "execute_result",
     "data": {
      "text/plain": "userId   userId  \n21164.0  117014.0   -1.0\n45618.0  39555.0    -1.0\n24134.0  111101.0   -1.0\n88031.0  74965.0    -1.0\n54464.0  2396.0     -1.0\ndtype: float64"
     },
     "metadata": {}
    }
   ]
  },
  {
   "cell_type": "code",
   "source": [
    "corr_df = pd.DataFrame(corr_df, columns=[\"corr\"])"
   ],
   "metadata": {
    "execution": {
     "iopub.status.busy": "2021-06-13T05:42:34.476978Z",
     "iopub.execute_input": "2021-06-13T05:42:34.477344Z",
     "iopub.status.idle": "2021-06-13T05:42:34.483003Z",
     "shell.execute_reply.started": "2021-06-13T05:42:34.477309Z",
     "shell.execute_reply": "2021-06-13T05:42:34.481869Z"
    },
    "trusted": true
   },
   "execution_count": 34,
   "outputs": []
  },
  {
   "cell_type": "code",
   "source": [
    "corr_df.index.names = ['user_id_1', 'user_id_2']"
   ],
   "metadata": {
    "execution": {
     "iopub.status.busy": "2021-06-13T05:42:38.371859Z",
     "iopub.execute_input": "2021-06-13T05:42:38.372288Z",
     "iopub.status.idle": "2021-06-13T05:42:38.377542Z",
     "shell.execute_reply.started": "2021-06-13T05:42:38.372252Z",
     "shell.execute_reply": "2021-06-13T05:42:38.376073Z"
    },
    "trusted": true
   },
   "execution_count": 35,
   "outputs": []
  },
  {
   "cell_type": "code",
   "source": [
    "corr_df.head()"
   ],
   "metadata": {
    "execution": {
     "iopub.status.busy": "2021-06-13T05:42:47.773619Z",
     "iopub.execute_input": "2021-06-13T05:42:47.774041Z",
     "iopub.status.idle": "2021-06-13T05:42:47.791061Z",
     "shell.execute_reply.started": "2021-06-13T05:42:47.774004Z",
     "shell.execute_reply": "2021-06-13T05:42:47.790031Z"
    },
    "trusted": true
   },
   "execution_count": 36,
   "outputs": [
    {
     "execution_count": 36,
     "output_type": "execute_result",
     "data": {
      "text/plain": "                     corr\nuser_id_1 user_id_2      \n21164.0   117014.0   -1.0\n45618.0   39555.0    -1.0\n24134.0   111101.0   -1.0\n88031.0   74965.0    -1.0\n54464.0   2396.0     -1.0",
      "text/html": "<div>\n<style scoped>\n    .dataframe tbody tr th:only-of-type {\n        vertical-align: middle;\n    }\n\n    .dataframe tbody tr th {\n        vertical-align: top;\n    }\n\n    .dataframe thead th {\n        text-align: right;\n    }\n</style>\n<table border=\"1\" class=\"dataframe\">\n  <thead>\n    <tr style=\"text-align: right;\">\n      <th></th>\n      <th></th>\n      <th>corr</th>\n    </tr>\n    <tr>\n      <th>user_id_1</th>\n      <th>user_id_2</th>\n      <th></th>\n    </tr>\n  </thead>\n  <tbody>\n    <tr>\n      <th>21164.0</th>\n      <th>117014.0</th>\n      <td>-1.0</td>\n    </tr>\n    <tr>\n      <th>45618.0</th>\n      <th>39555.0</th>\n      <td>-1.0</td>\n    </tr>\n    <tr>\n      <th>24134.0</th>\n      <th>111101.0</th>\n      <td>-1.0</td>\n    </tr>\n    <tr>\n      <th>88031.0</th>\n      <th>74965.0</th>\n      <td>-1.0</td>\n    </tr>\n    <tr>\n      <th>54464.0</th>\n      <th>2396.0</th>\n      <td>-1.0</td>\n    </tr>\n  </tbody>\n</table>\n</div>"
     },
     "metadata": {}
    }
   ]
  },
  {
   "cell_type": "code",
   "source": [
    "corr_df = corr_df.reset_index()"
   ],
   "metadata": {
    "execution": {
     "iopub.status.busy": "2021-06-13T05:42:59.507920Z",
     "iopub.execute_input": "2021-06-13T05:42:59.508334Z",
     "iopub.status.idle": "2021-06-13T05:42:59.526442Z",
     "shell.execute_reply.started": "2021-06-13T05:42:59.508301Z",
     "shell.execute_reply": "2021-06-13T05:42:59.525305Z"
    },
    "trusted": true
   },
   "execution_count": 37,
   "outputs": []
  },
  {
   "cell_type": "code",
   "source": [
    "corr_df.head()"
   ],
   "metadata": {
    "execution": {
     "iopub.status.busy": "2021-06-13T05:43:08.540791Z",
     "iopub.execute_input": "2021-06-13T05:43:08.541240Z",
     "iopub.status.idle": "2021-06-13T05:43:08.556280Z",
     "shell.execute_reply.started": "2021-06-13T05:43:08.541201Z",
     "shell.execute_reply": "2021-06-13T05:43:08.555041Z"
    },
    "trusted": true
   },
   "execution_count": 38,
   "outputs": [
    {
     "execution_count": 38,
     "output_type": "execute_result",
     "data": {
      "text/plain": "   user_id_1  user_id_2  corr\n0    21164.0   117014.0  -1.0\n1    45618.0    39555.0  -1.0\n2    24134.0   111101.0  -1.0\n3    88031.0    74965.0  -1.0\n4    54464.0     2396.0  -1.0",
      "text/html": "<div>\n<style scoped>\n    .dataframe tbody tr th:only-of-type {\n        vertical-align: middle;\n    }\n\n    .dataframe tbody tr th {\n        vertical-align: top;\n    }\n\n    .dataframe thead th {\n        text-align: right;\n    }\n</style>\n<table border=\"1\" class=\"dataframe\">\n  <thead>\n    <tr style=\"text-align: right;\">\n      <th></th>\n      <th>user_id_1</th>\n      <th>user_id_2</th>\n      <th>corr</th>\n    </tr>\n  </thead>\n  <tbody>\n    <tr>\n      <th>0</th>\n      <td>21164.0</td>\n      <td>117014.0</td>\n      <td>-1.0</td>\n    </tr>\n    <tr>\n      <th>1</th>\n      <td>45618.0</td>\n      <td>39555.0</td>\n      <td>-1.0</td>\n    </tr>\n    <tr>\n      <th>2</th>\n      <td>24134.0</td>\n      <td>111101.0</td>\n      <td>-1.0</td>\n    </tr>\n    <tr>\n      <th>3</th>\n      <td>88031.0</td>\n      <td>74965.0</td>\n      <td>-1.0</td>\n    </tr>\n    <tr>\n      <th>4</th>\n      <td>54464.0</td>\n      <td>2396.0</td>\n      <td>-1.0</td>\n    </tr>\n  </tbody>\n</table>\n</div>"
     },
     "metadata": {}
    }
   ]
  },
  {
   "cell_type": "code",
   "source": [
    "top_users = corr_df[(corr_df[\"user_id_1\"] == user) & (corr_df[\"corr\"] >= 0.65)][[\"user_id_2\", \"corr\"]].reset_index(drop=True)"
   ],
   "metadata": {
    "execution": {
     "iopub.status.busy": "2021-06-13T05:46:05.044212Z",
     "iopub.execute_input": "2021-06-13T05:46:05.044662Z",
     "iopub.status.idle": "2021-06-13T05:46:05.067841Z",
     "shell.execute_reply.started": "2021-06-13T05:46:05.044629Z",
     "shell.execute_reply": "2021-06-13T05:46:05.067033Z"
    },
    "trusted": true
   },
   "execution_count": 39,
   "outputs": []
  },
  {
   "cell_type": "code",
   "source": [
    "top_users"
   ],
   "metadata": {
    "execution": {
     "iopub.status.busy": "2021-06-13T05:46:51.734831Z",
     "iopub.execute_input": "2021-06-13T05:46:51.735599Z",
     "iopub.status.idle": "2021-06-13T05:46:51.750307Z",
     "shell.execute_reply.started": "2021-06-13T05:46:51.735538Z",
     "shell.execute_reply": "2021-06-13T05:46:51.749283Z"
    },
    "trusted": true
   },
   "execution_count": 40,
   "outputs": [
    {
     "execution_count": 40,
     "output_type": "execute_result",
     "data": {
      "text/plain": "    user_id_2      corr\n0     92769.0  0.650710\n1     45814.0  0.651219\n2     84287.0  0.651749\n3     63833.0  0.652963\n4     95788.0  0.653866\n..        ...       ...\n62    68350.0  0.881489\n63    49211.0  0.882716\n64     9086.0  0.891991\n65    74035.0  0.913956\n66    80770.0  0.968004\n\n[67 rows x 2 columns]",
      "text/html": "<div>\n<style scoped>\n    .dataframe tbody tr th:only-of-type {\n        vertical-align: middle;\n    }\n\n    .dataframe tbody tr th {\n        vertical-align: top;\n    }\n\n    .dataframe thead th {\n        text-align: right;\n    }\n</style>\n<table border=\"1\" class=\"dataframe\">\n  <thead>\n    <tr style=\"text-align: right;\">\n      <th></th>\n      <th>user_id_2</th>\n      <th>corr</th>\n    </tr>\n  </thead>\n  <tbody>\n    <tr>\n      <th>0</th>\n      <td>92769.0</td>\n      <td>0.650710</td>\n    </tr>\n    <tr>\n      <th>1</th>\n      <td>45814.0</td>\n      <td>0.651219</td>\n    </tr>\n    <tr>\n      <th>2</th>\n      <td>84287.0</td>\n      <td>0.651749</td>\n    </tr>\n    <tr>\n      <th>3</th>\n      <td>63833.0</td>\n      <td>0.652963</td>\n    </tr>\n    <tr>\n      <th>4</th>\n      <td>95788.0</td>\n      <td>0.653866</td>\n    </tr>\n    <tr>\n      <th>...</th>\n      <td>...</td>\n      <td>...</td>\n    </tr>\n    <tr>\n      <th>62</th>\n      <td>68350.0</td>\n      <td>0.881489</td>\n    </tr>\n    <tr>\n      <th>63</th>\n      <td>49211.0</td>\n      <td>0.882716</td>\n    </tr>\n    <tr>\n      <th>64</th>\n      <td>9086.0</td>\n      <td>0.891991</td>\n    </tr>\n    <tr>\n      <th>65</th>\n      <td>74035.0</td>\n      <td>0.913956</td>\n    </tr>\n    <tr>\n      <th>66</th>\n      <td>80770.0</td>\n      <td>0.968004</td>\n    </tr>\n  </tbody>\n</table>\n<p>67 rows × 2 columns</p>\n</div>"
     },
     "metadata": {}
    }
   ]
  },
  {
   "cell_type": "code",
   "source": [
    "top_users = top_users.sort_values(by='corr', ascending=False)\n",
    "top_users"
   ],
   "metadata": {
    "execution": {
     "iopub.status.busy": "2021-06-13T05:49:25.069964Z",
     "iopub.execute_input": "2021-06-13T05:49:25.070467Z",
     "iopub.status.idle": "2021-06-13T05:49:25.085755Z",
     "shell.execute_reply.started": "2021-06-13T05:49:25.070419Z",
     "shell.execute_reply": "2021-06-13T05:49:25.084777Z"
    },
    "trusted": true
   },
   "execution_count": 41,
   "outputs": [
    {
     "execution_count": 41,
     "output_type": "execute_result",
     "data": {
      "text/plain": "    user_id_2      corr\n66    80770.0  0.968004\n65    74035.0  0.913956\n64     9086.0  0.891991\n63    49211.0  0.882716\n62    68350.0  0.881489\n..        ...       ...\n4     95788.0  0.653866\n3     63833.0  0.652963\n2     84287.0  0.651749\n1     45814.0  0.651219\n0     92769.0  0.650710\n\n[67 rows x 2 columns]",
      "text/html": "<div>\n<style scoped>\n    .dataframe tbody tr th:only-of-type {\n        vertical-align: middle;\n    }\n\n    .dataframe tbody tr th {\n        vertical-align: top;\n    }\n\n    .dataframe thead th {\n        text-align: right;\n    }\n</style>\n<table border=\"1\" class=\"dataframe\">\n  <thead>\n    <tr style=\"text-align: right;\">\n      <th></th>\n      <th>user_id_2</th>\n      <th>corr</th>\n    </tr>\n  </thead>\n  <tbody>\n    <tr>\n      <th>66</th>\n      <td>80770.0</td>\n      <td>0.968004</td>\n    </tr>\n    <tr>\n      <th>65</th>\n      <td>74035.0</td>\n      <td>0.913956</td>\n    </tr>\n    <tr>\n      <th>64</th>\n      <td>9086.0</td>\n      <td>0.891991</td>\n    </tr>\n    <tr>\n      <th>63</th>\n      <td>49211.0</td>\n      <td>0.882716</td>\n    </tr>\n    <tr>\n      <th>62</th>\n      <td>68350.0</td>\n      <td>0.881489</td>\n    </tr>\n    <tr>\n      <th>...</th>\n      <td>...</td>\n      <td>...</td>\n    </tr>\n    <tr>\n      <th>4</th>\n      <td>95788.0</td>\n      <td>0.653866</td>\n    </tr>\n    <tr>\n      <th>3</th>\n      <td>63833.0</td>\n      <td>0.652963</td>\n    </tr>\n    <tr>\n      <th>2</th>\n      <td>84287.0</td>\n      <td>0.651749</td>\n    </tr>\n    <tr>\n      <th>1</th>\n      <td>45814.0</td>\n      <td>0.651219</td>\n    </tr>\n    <tr>\n      <th>0</th>\n      <td>92769.0</td>\n      <td>0.650710</td>\n    </tr>\n  </tbody>\n</table>\n<p>67 rows × 2 columns</p>\n</div>"
     },
     "metadata": {}
    }
   ]
  },
  {
   "cell_type": "code",
   "source": [
    "top_users.rename(columns={\"user_id_2\": \"userId\"}, inplace=True)\n"
   ],
   "metadata": {
    "execution": {
     "iopub.status.busy": "2021-06-13T05:57:31.508017Z",
     "iopub.execute_input": "2021-06-13T05:57:31.508558Z",
     "iopub.status.idle": "2021-06-13T05:57:31.513670Z",
     "shell.execute_reply.started": "2021-06-13T05:57:31.508526Z",
     "shell.execute_reply": "2021-06-13T05:57:31.512897Z"
    },
    "trusted": true
   },
   "execution_count": 45,
   "outputs": []
  },
  {
   "cell_type": "code",
   "source": [
    "# görev 5\n",
    "rating = pd.read_csv('../input/movielens-20m-dataset/rating.csv')\n"
   ],
   "metadata": {
    "execution": {
     "iopub.status.busy": "2021-06-13T05:57:03.831889Z",
     "iopub.execute_input": "2021-06-13T05:57:03.832538Z",
     "iopub.status.idle": "2021-06-13T05:57:20.564302Z",
     "shell.execute_reply.started": "2021-06-13T05:57:03.832501Z",
     "shell.execute_reply": "2021-06-13T05:57:20.563543Z"
    },
    "trusted": true
   },
   "execution_count": 44,
   "outputs": []
  },
  {
   "cell_type": "code",
   "source": [
    "top_users_ratings = top_users.merge(rating[[\"userId\", \"movieId\", \"rating\"]], how='inner')"
   ],
   "metadata": {
    "execution": {
     "iopub.status.busy": "2021-06-13T05:58:02.510552Z",
     "iopub.execute_input": "2021-06-13T05:58:02.510952Z",
     "iopub.status.idle": "2021-06-13T05:58:06.175304Z",
     "shell.execute_reply.started": "2021-06-13T05:58:02.510909Z",
     "shell.execute_reply": "2021-06-13T05:58:06.174117Z"
    },
    "trusted": true
   },
   "execution_count": 47,
   "outputs": []
  },
  {
   "cell_type": "code",
   "source": [
    "top_users_ratings.head()"
   ],
   "metadata": {
    "execution": {
     "iopub.status.busy": "2021-06-13T05:58:20.318385Z",
     "iopub.execute_input": "2021-06-13T05:58:20.318770Z",
     "iopub.status.idle": "2021-06-13T05:58:20.331749Z",
     "shell.execute_reply.started": "2021-06-13T05:58:20.318724Z",
     "shell.execute_reply": "2021-06-13T05:58:20.330767Z"
    },
    "trusted": true
   },
   "execution_count": 48,
   "outputs": [
    {
     "execution_count": 48,
     "output_type": "execute_result",
     "data": {
      "text/plain": "    userId      corr  movieId  rating\n0  80770.0  0.968004        2     2.0\n1  80770.0  0.968004      249     5.0\n2  80770.0  0.968004      293     5.0\n3  80770.0  0.968004      380     2.0\n4  80770.0  0.968004      541     4.0",
      "text/html": "<div>\n<style scoped>\n    .dataframe tbody tr th:only-of-type {\n        vertical-align: middle;\n    }\n\n    .dataframe tbody tr th {\n        vertical-align: top;\n    }\n\n    .dataframe thead th {\n        text-align: right;\n    }\n</style>\n<table border=\"1\" class=\"dataframe\">\n  <thead>\n    <tr style=\"text-align: right;\">\n      <th></th>\n      <th>userId</th>\n      <th>corr</th>\n      <th>movieId</th>\n      <th>rating</th>\n    </tr>\n  </thead>\n  <tbody>\n    <tr>\n      <th>0</th>\n      <td>80770.0</td>\n      <td>0.968004</td>\n      <td>2</td>\n      <td>2.0</td>\n    </tr>\n    <tr>\n      <th>1</th>\n      <td>80770.0</td>\n      <td>0.968004</td>\n      <td>249</td>\n      <td>5.0</td>\n    </tr>\n    <tr>\n      <th>2</th>\n      <td>80770.0</td>\n      <td>0.968004</td>\n      <td>293</td>\n      <td>5.0</td>\n    </tr>\n    <tr>\n      <th>3</th>\n      <td>80770.0</td>\n      <td>0.968004</td>\n      <td>380</td>\n      <td>2.0</td>\n    </tr>\n    <tr>\n      <th>4</th>\n      <td>80770.0</td>\n      <td>0.968004</td>\n      <td>541</td>\n      <td>4.0</td>\n    </tr>\n  </tbody>\n</table>\n</div>"
     },
     "metadata": {}
    }
   ]
  },
  {
   "cell_type": "code",
   "source": [
    "top_users_ratings['weighted_rating'] = top_users_ratings['corr'] * top_users_ratings['rating']\n"
   ],
   "metadata": {
    "execution": {
     "iopub.status.busy": "2021-06-13T05:58:28.118333Z",
     "iopub.execute_input": "2021-06-13T05:58:28.118713Z",
     "iopub.status.idle": "2021-06-13T05:58:28.125053Z",
     "shell.execute_reply.started": "2021-06-13T05:58:28.118678Z",
     "shell.execute_reply": "2021-06-13T05:58:28.123998Z"
    },
    "trusted": true
   },
   "execution_count": 49,
   "outputs": []
  },
  {
   "cell_type": "code",
   "source": [
    "top_users_ratings.head()"
   ],
   "metadata": {
    "execution": {
     "iopub.status.busy": "2021-06-13T05:58:35.588971Z",
     "iopub.execute_input": "2021-06-13T05:58:35.589382Z",
     "iopub.status.idle": "2021-06-13T05:58:35.602747Z",
     "shell.execute_reply.started": "2021-06-13T05:58:35.589342Z",
     "shell.execute_reply": "2021-06-13T05:58:35.602021Z"
    },
    "trusted": true
   },
   "execution_count": 50,
   "outputs": [
    {
     "execution_count": 50,
     "output_type": "execute_result",
     "data": {
      "text/plain": "    userId      corr  movieId  rating  weighted_rating\n0  80770.0  0.968004        2     2.0         1.936008\n1  80770.0  0.968004      249     5.0         4.840019\n2  80770.0  0.968004      293     5.0         4.840019\n3  80770.0  0.968004      380     2.0         1.936008\n4  80770.0  0.968004      541     4.0         3.872015",
      "text/html": "<div>\n<style scoped>\n    .dataframe tbody tr th:only-of-type {\n        vertical-align: middle;\n    }\n\n    .dataframe tbody tr th {\n        vertical-align: top;\n    }\n\n    .dataframe thead th {\n        text-align: right;\n    }\n</style>\n<table border=\"1\" class=\"dataframe\">\n  <thead>\n    <tr style=\"text-align: right;\">\n      <th></th>\n      <th>userId</th>\n      <th>corr</th>\n      <th>movieId</th>\n      <th>rating</th>\n      <th>weighted_rating</th>\n    </tr>\n  </thead>\n  <tbody>\n    <tr>\n      <th>0</th>\n      <td>80770.0</td>\n      <td>0.968004</td>\n      <td>2</td>\n      <td>2.0</td>\n      <td>1.936008</td>\n    </tr>\n    <tr>\n      <th>1</th>\n      <td>80770.0</td>\n      <td>0.968004</td>\n      <td>249</td>\n      <td>5.0</td>\n      <td>4.840019</td>\n    </tr>\n    <tr>\n      <th>2</th>\n      <td>80770.0</td>\n      <td>0.968004</td>\n      <td>293</td>\n      <td>5.0</td>\n      <td>4.840019</td>\n    </tr>\n    <tr>\n      <th>3</th>\n      <td>80770.0</td>\n      <td>0.968004</td>\n      <td>380</td>\n      <td>2.0</td>\n      <td>1.936008</td>\n    </tr>\n    <tr>\n      <th>4</th>\n      <td>80770.0</td>\n      <td>0.968004</td>\n      <td>541</td>\n      <td>4.0</td>\n      <td>3.872015</td>\n    </tr>\n  </tbody>\n</table>\n</div>"
     },
     "metadata": {}
    }
   ]
  },
  {
   "cell_type": "code",
   "source": [
    "top_users_ratings.sort_values(by=\"weighted_rating\", ascending=False).head()"
   ],
   "metadata": {
    "execution": {
     "iopub.status.busy": "2021-06-13T06:09:27.369861Z",
     "iopub.execute_input": "2021-06-13T06:09:27.370315Z",
     "iopub.status.idle": "2021-06-13T06:09:27.387599Z",
     "shell.execute_reply.started": "2021-06-13T06:09:27.370277Z",
     "shell.execute_reply": "2021-06-13T06:09:27.386770Z"
    },
    "trusted": true
   },
   "execution_count": 53,
   "outputs": [
    {
     "execution_count": 53,
     "output_type": "execute_result",
     "data": {
      "text/plain": "     userId      corr  movieId  rating  weighted_rating\n1   80770.0  0.968004      249     5.0         4.840019\n2   80770.0  0.968004      293     5.0         4.840019\n14  80770.0  0.968004     2291     5.0         4.840019\n6   80770.0  0.968004      778     5.0         4.840019\n10  80770.0  0.968004     1641     5.0         4.840019",
      "text/html": "<div>\n<style scoped>\n    .dataframe tbody tr th:only-of-type {\n        vertical-align: middle;\n    }\n\n    .dataframe tbody tr th {\n        vertical-align: top;\n    }\n\n    .dataframe thead th {\n        text-align: right;\n    }\n</style>\n<table border=\"1\" class=\"dataframe\">\n  <thead>\n    <tr style=\"text-align: right;\">\n      <th></th>\n      <th>userId</th>\n      <th>corr</th>\n      <th>movieId</th>\n      <th>rating</th>\n      <th>weighted_rating</th>\n    </tr>\n  </thead>\n  <tbody>\n    <tr>\n      <th>1</th>\n      <td>80770.0</td>\n      <td>0.968004</td>\n      <td>249</td>\n      <td>5.0</td>\n      <td>4.840019</td>\n    </tr>\n    <tr>\n      <th>2</th>\n      <td>80770.0</td>\n      <td>0.968004</td>\n      <td>293</td>\n      <td>5.0</td>\n      <td>4.840019</td>\n    </tr>\n    <tr>\n      <th>14</th>\n      <td>80770.0</td>\n      <td>0.968004</td>\n      <td>2291</td>\n      <td>5.0</td>\n      <td>4.840019</td>\n    </tr>\n    <tr>\n      <th>6</th>\n      <td>80770.0</td>\n      <td>0.968004</td>\n      <td>778</td>\n      <td>5.0</td>\n      <td>4.840019</td>\n    </tr>\n    <tr>\n      <th>10</th>\n      <td>80770.0</td>\n      <td>0.968004</td>\n      <td>1641</td>\n      <td>5.0</td>\n      <td>4.840019</td>\n    </tr>\n  </tbody>\n</table>\n</div>"
     },
     "metadata": {}
    }
   ]
  },
  {
   "cell_type": "code",
   "source": [
    "recommendation_df = top_users_ratings.groupby('movieId').agg({\"weighted_rating\": \"mean\"})\n"
   ],
   "metadata": {
    "execution": {
     "iopub.status.busy": "2021-06-13T06:12:40.824788Z",
     "iopub.execute_input": "2021-06-13T06:12:40.825226Z",
     "iopub.status.idle": "2021-06-13T06:12:40.841355Z",
     "shell.execute_reply.started": "2021-06-13T06:12:40.825187Z",
     "shell.execute_reply": "2021-06-13T06:12:40.840154Z"
    },
    "trusted": true
   },
   "execution_count": 56,
   "outputs": [
    {
     "execution_count": 56,
     "output_type": "execute_result",
     "data": {
      "text/plain": "         weighted_rating\nmovieId                 \n835             4.413579\n8914            4.407443\n55908           4.407443\n1487            4.337053\n69757           4.337053",
      "text/html": "<div>\n<style scoped>\n    .dataframe tbody tr th:only-of-type {\n        vertical-align: middle;\n    }\n\n    .dataframe tbody tr th {\n        vertical-align: top;\n    }\n\n    .dataframe thead th {\n        text-align: right;\n    }\n</style>\n<table border=\"1\" class=\"dataframe\">\n  <thead>\n    <tr style=\"text-align: right;\">\n      <th></th>\n      <th>weighted_rating</th>\n    </tr>\n    <tr>\n      <th>movieId</th>\n      <th></th>\n    </tr>\n  </thead>\n  <tbody>\n    <tr>\n      <th>835</th>\n      <td>4.413579</td>\n    </tr>\n    <tr>\n      <th>8914</th>\n      <td>4.407443</td>\n    </tr>\n    <tr>\n      <th>55908</th>\n      <td>4.407443</td>\n    </tr>\n    <tr>\n      <th>1487</th>\n      <td>4.337053</td>\n    </tr>\n    <tr>\n      <th>69757</th>\n      <td>4.337053</td>\n    </tr>\n  </tbody>\n</table>\n</div>"
     },
     "metadata": {}
    }
   ]
  },
  {
   "cell_type": "code",
   "source": [
    "recommendation_df.reset_index()"
   ],
   "metadata": {
    "execution": {
     "iopub.status.busy": "2021-06-13T06:13:49.551732Z",
     "iopub.execute_input": "2021-06-13T06:13:49.552260Z",
     "iopub.status.idle": "2021-06-13T06:13:49.570588Z",
     "shell.execute_reply.started": "2021-06-13T06:13:49.552215Z",
     "shell.execute_reply": "2021-06-13T06:13:49.569462Z"
    },
    "trusted": true
   },
   "execution_count": 57,
   "outputs": [
    {
     "execution_count": 57,
     "output_type": "execute_result",
     "data": {
      "text/plain": "      movieId  weighted_rating\n0           1         2.239900\n1           2         2.144713\n2           3         2.039647\n3           4         1.565095\n4           5         1.664539\n...       ...              ...\n1935    92259         4.138405\n1936    95510         3.310724\n1937    96610         3.724564\n1938    98961         3.310724\n1939   106918         2.886213\n\n[1940 rows x 2 columns]",
      "text/html": "<div>\n<style scoped>\n    .dataframe tbody tr th:only-of-type {\n        vertical-align: middle;\n    }\n\n    .dataframe tbody tr th {\n        vertical-align: top;\n    }\n\n    .dataframe thead th {\n        text-align: right;\n    }\n</style>\n<table border=\"1\" class=\"dataframe\">\n  <thead>\n    <tr style=\"text-align: right;\">\n      <th></th>\n      <th>movieId</th>\n      <th>weighted_rating</th>\n    </tr>\n  </thead>\n  <tbody>\n    <tr>\n      <th>0</th>\n      <td>1</td>\n      <td>2.239900</td>\n    </tr>\n    <tr>\n      <th>1</th>\n      <td>2</td>\n      <td>2.144713</td>\n    </tr>\n    <tr>\n      <th>2</th>\n      <td>3</td>\n      <td>2.039647</td>\n    </tr>\n    <tr>\n      <th>3</th>\n      <td>4</td>\n      <td>1.565095</td>\n    </tr>\n    <tr>\n      <th>4</th>\n      <td>5</td>\n      <td>1.664539</td>\n    </tr>\n    <tr>\n      <th>...</th>\n      <td>...</td>\n      <td>...</td>\n    </tr>\n    <tr>\n      <th>1935</th>\n      <td>92259</td>\n      <td>4.138405</td>\n    </tr>\n    <tr>\n      <th>1936</th>\n      <td>95510</td>\n      <td>3.310724</td>\n    </tr>\n    <tr>\n      <th>1937</th>\n      <td>96610</td>\n      <td>3.724564</td>\n    </tr>\n    <tr>\n      <th>1938</th>\n      <td>98961</td>\n      <td>3.310724</td>\n    </tr>\n    <tr>\n      <th>1939</th>\n      <td>106918</td>\n      <td>2.886213</td>\n    </tr>\n  </tbody>\n</table>\n<p>1940 rows × 2 columns</p>\n</div>"
     },
     "metadata": {}
    }
   ]
  },
  {
   "cell_type": "code",
   "source": [
    "recommendation_df.sort_values(by=\"weighted_rating\", ascending=False).head()"
   ],
   "metadata": {
    "execution": {
     "iopub.status.busy": "2021-06-13T06:15:05.492570Z",
     "iopub.execute_input": "2021-06-13T06:15:05.492979Z",
     "iopub.status.idle": "2021-06-13T06:15:05.504565Z",
     "shell.execute_reply.started": "2021-06-13T06:15:05.492931Z",
     "shell.execute_reply": "2021-06-13T06:15:05.503573Z"
    },
    "trusted": true
   },
   "execution_count": 58,
   "outputs": [
    {
     "execution_count": 58,
     "output_type": "execute_result",
     "data": {
      "text/plain": "         weighted_rating\nmovieId                 \n835             4.413579\n8914            4.407443\n55908           4.407443\n1487            4.337053\n69757           4.337053",
      "text/html": "<div>\n<style scoped>\n    .dataframe tbody tr th:only-of-type {\n        vertical-align: middle;\n    }\n\n    .dataframe tbody tr th {\n        vertical-align: top;\n    }\n\n    .dataframe thead th {\n        text-align: right;\n    }\n</style>\n<table border=\"1\" class=\"dataframe\">\n  <thead>\n    <tr style=\"text-align: right;\">\n      <th></th>\n      <th>weighted_rating</th>\n    </tr>\n    <tr>\n      <th>movieId</th>\n      <th></th>\n    </tr>\n  </thead>\n  <tbody>\n    <tr>\n      <th>835</th>\n      <td>4.413579</td>\n    </tr>\n    <tr>\n      <th>8914</th>\n      <td>4.407443</td>\n    </tr>\n    <tr>\n      <th>55908</th>\n      <td>4.407443</td>\n    </tr>\n    <tr>\n      <th>1487</th>\n      <td>4.337053</td>\n    </tr>\n    <tr>\n      <th>69757</th>\n      <td>4.337053</td>\n    </tr>\n  </tbody>\n</table>\n</div>"
     },
     "metadata": {}
    }
   ]
  },
  {
   "cell_type": "code",
   "source": "",
   "metadata": {},
   "execution_count": null,
   "outputs": []
  },
  {
   "cell_type": "code",
   "source": "",
   "metadata": {},
   "execution_count": null,
   "outputs": []
  },
  {
   "cell_type": "code",
   "source": "",
   "metadata": {},
   "execution_count": null,
   "outputs": []
  }
 ]
}