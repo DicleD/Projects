{
 "metadata": {
  "kernelspec": {
   "language": "python",
   "display_name": "Python 3",
   "name": "python3"
  },
  "language_info": {
   "name": "python",
   "version": "3.7.10",
   "mimetype": "text/x-python",
   "codemirror_mode": {
    "name": "ipython",
    "version": 3
   },
   "pygments_lexer": "ipython3",
   "nbconvert_exporter": "python",
   "file_extension": ".py"
  }
 },
 "nbformat_minor": 4,
 "nbformat": 4,
 "cells": [
  {
   "cell_type": "code",
   "source": [],
   "metadata": {
    "_uuid": "8f2839f25d086af736a60e9eeb907d3b93b6e0e5",
    "_cell_guid": "b1076dfc-b9ad-4769-8c92-a6c4dae69d19",
    "execution": {
     "iopub.status.busy": "2021-06-13T06:18:32.126234Z",
     "iopub.execute_input": "2021-06-13T06:18:32.126647Z",
     "iopub.status.idle": "2021-06-13T06:18:32.148097Z",
     "shell.execute_reply.started": "2021-06-13T06:18:32.126567Z",
     "shell.execute_reply": "2021-06-13T06:18:32.146768Z"
    },
    "trusted": true
   },
   "execution_count": 1,
   "outputs": [
    {
     "name": "stdout",
     "text": "/kaggle/input/movielens-20m-dataset/rating.csv\n/kaggle/input/movielens-20m-dataset/link.csv\n/kaggle/input/movielens-20m-dataset/genome_tags.csv\n/kaggle/input/movielens-20m-dataset/genome_scores.csv\n/kaggle/input/movielens-20m-dataset/tag.csv\n/kaggle/input/movielens-20m-dataset/movie.csv\n",
     "output_type": "stream"
    }
   ]
  },
  {
   "cell_type": "code",
   "source": [
    "movies = pd.read_csv(\"../input/movielens-20m-dataset/movie.csv\")\n",
    "ratings = pd.read_csv(\"../input/movielens-20m-dataset/rating.csv\")"
   ],
   "metadata": {
    "execution": {
     "iopub.status.busy": "2021-06-13T06:18:32.151441Z",
     "iopub.execute_input": "2021-06-13T06:18:32.151841Z",
     "iopub.status.idle": "2021-06-13T06:18:51.265530Z",
     "shell.execute_reply.started": "2021-06-13T06:18:32.151802Z",
     "shell.execute_reply": "2021-06-13T06:18:51.264739Z"
    },
    "trusted": true
   },
   "execution_count": 2,
   "outputs": []
  },
  {
   "cell_type": "code",
   "source": [
    "movies.head()"
   ],
   "metadata": {
    "execution": {
     "iopub.status.busy": "2021-06-13T06:18:51.266716Z",
     "iopub.execute_input": "2021-06-13T06:18:51.267077Z",
     "iopub.status.idle": "2021-06-13T06:18:51.288412Z",
     "shell.execute_reply.started": "2021-06-13T06:18:51.267050Z",
     "shell.execute_reply": "2021-06-13T06:18:51.287605Z"
    },
    "trusted": true
   },
   "execution_count": 3,
   "outputs": [
    {
     "execution_count": 3,
     "output_type": "execute_result",
     "data": {
      "text/plain": "   movieId                               title  \\\n0        1                    Toy Story (1995)   \n1        2                      Jumanji (1995)   \n2        3             Grumpier Old Men (1995)   \n3        4            Waiting to Exhale (1995)   \n4        5  Father of the Bride Part II (1995)   \n\n                                        genres  \n0  Adventure|Animation|Children|Comedy|Fantasy  \n1                   Adventure|Children|Fantasy  \n2                               Comedy|Romance  \n3                         Comedy|Drama|Romance  \n4                                       Comedy  ",
      "text/html": "<div>\n<style scoped>\n    .dataframe tbody tr th:only-of-type {\n        vertical-align: middle;\n    }\n\n    .dataframe tbody tr th {\n        vertical-align: top;\n    }\n\n    .dataframe thead th {\n        text-align: right;\n    }\n</style>\n<table border=\"1\" class=\"dataframe\">\n  <thead>\n    <tr style=\"text-align: right;\">\n      <th></th>\n      <th>movieId</th>\n      <th>title</th>\n      <th>genres</th>\n    </tr>\n  </thead>\n  <tbody>\n    <tr>\n      <th>0</th>\n      <td>1</td>\n      <td>Toy Story (1995)</td>\n      <td>Adventure|Animation|Children|Comedy|Fantasy</td>\n    </tr>\n    <tr>\n      <th>1</th>\n      <td>2</td>\n      <td>Jumanji (1995)</td>\n      <td>Adventure|Children|Fantasy</td>\n    </tr>\n    <tr>\n      <th>2</th>\n      <td>3</td>\n      <td>Grumpier Old Men (1995)</td>\n      <td>Comedy|Romance</td>\n    </tr>\n    <tr>\n      <th>3</th>\n      <td>4</td>\n      <td>Waiting to Exhale (1995)</td>\n      <td>Comedy|Drama|Romance</td>\n    </tr>\n    <tr>\n      <th>4</th>\n      <td>5</td>\n      <td>Father of the Bride Part II (1995)</td>\n      <td>Comedy</td>\n    </tr>\n  </tbody>\n</table>\n</div>"
     },
     "metadata": {}
    }
   ]
  },
  {
   "cell_type": "code",
   "source": [
    "ratings.head()"
   ],
   "metadata": {
    "execution": {
     "iopub.status.busy": "2021-06-13T06:18:51.289752Z",
     "iopub.execute_input": "2021-06-13T06:18:51.290009Z",
     "iopub.status.idle": "2021-06-13T06:18:51.301130Z",
     "shell.execute_reply.started": "2021-06-13T06:18:51.289982Z",
     "shell.execute_reply": "2021-06-13T06:18:51.300029Z"
    },
    "trusted": true
   },
   "execution_count": 4,
   "outputs": [
    {
     "execution_count": 4,
     "output_type": "execute_result",
     "data": {
      "text/plain": "   userId  movieId  rating            timestamp\n0       1        2     3.5  2005-04-02 23:53:47\n1       1       29     3.5  2005-04-02 23:31:16\n2       1       32     3.5  2005-04-02 23:33:39\n3       1       47     3.5  2005-04-02 23:32:07\n4       1       50     3.5  2005-04-02 23:29:40",
      "text/html": "<div>\n<style scoped>\n    .dataframe tbody tr th:only-of-type {\n        vertical-align: middle;\n    }\n\n    .dataframe tbody tr th {\n        vertical-align: top;\n    }\n\n    .dataframe thead th {\n        text-align: right;\n    }\n</style>\n<table border=\"1\" class=\"dataframe\">\n  <thead>\n    <tr style=\"text-align: right;\">\n      <th></th>\n      <th>userId</th>\n      <th>movieId</th>\n      <th>rating</th>\n      <th>timestamp</th>\n    </tr>\n  </thead>\n  <tbody>\n    <tr>\n      <th>0</th>\n      <td>1</td>\n      <td>2</td>\n      <td>3.5</td>\n      <td>2005-04-02 23:53:47</td>\n    </tr>\n    <tr>\n      <th>1</th>\n      <td>1</td>\n      <td>29</td>\n      <td>3.5</td>\n      <td>2005-04-02 23:31:16</td>\n    </tr>\n    <tr>\n      <th>2</th>\n      <td>1</td>\n      <td>32</td>\n      <td>3.5</td>\n      <td>2005-04-02 23:33:39</td>\n    </tr>\n    <tr>\n      <th>3</th>\n      <td>1</td>\n      <td>47</td>\n      <td>3.5</td>\n      <td>2005-04-02 23:32:07</td>\n    </tr>\n    <tr>\n      <th>4</th>\n      <td>1</td>\n      <td>50</td>\n      <td>3.5</td>\n      <td>2005-04-02 23:29:40</td>\n    </tr>\n  </tbody>\n</table>\n</div>"
     },
     "metadata": {}
    }
   ]
  },
  {
   "cell_type": "code",
   "source": [
    "df = movies.merge(ratings, how=\"left\", on=\"movieId\")"
   ],
   "metadata": {
    "execution": {
     "iopub.status.busy": "2021-06-13T06:18:51.302391Z",
     "iopub.execute_input": "2021-06-13T06:18:51.302653Z",
     "iopub.status.idle": "2021-06-13T06:19:01.705982Z",
     "shell.execute_reply.started": "2021-06-13T06:18:51.302626Z",
     "shell.execute_reply": "2021-06-13T06:19:01.704998Z"
    },
    "trusted": true
   },
   "execution_count": 5,
   "outputs": []
  },
  {
   "cell_type": "code",
   "source": [
    "df.head()"
   ],
   "metadata": {
    "execution": {
     "iopub.status.busy": "2021-06-13T06:19:01.707132Z",
     "iopub.execute_input": "2021-06-13T06:19:01.707431Z",
     "iopub.status.idle": "2021-06-13T06:19:01.718904Z",
     "shell.execute_reply.started": "2021-06-13T06:19:01.707402Z",
     "shell.execute_reply": "2021-06-13T06:19:01.718303Z"
    },
    "trusted": true
   },
   "execution_count": 6,
   "outputs": [
    {
     "execution_count": 6,
     "output_type": "execute_result",
     "data": {
      "text/plain": "   movieId             title                                       genres  \\\n0        1  Toy Story (1995)  Adventure|Animation|Children|Comedy|Fantasy   \n1        1  Toy Story (1995)  Adventure|Animation|Children|Comedy|Fantasy   \n2        1  Toy Story (1995)  Adventure|Animation|Children|Comedy|Fantasy   \n3        1  Toy Story (1995)  Adventure|Animation|Children|Comedy|Fantasy   \n4        1  Toy Story (1995)  Adventure|Animation|Children|Comedy|Fantasy   \n\n   userId  rating            timestamp  \n0     3.0     4.0  1999-12-11 13:36:47  \n1     6.0     5.0  1997-03-13 17:50:52  \n2     8.0     4.0  1996-06-05 13:37:51  \n3    10.0     4.0  1999-11-25 02:44:47  \n4    11.0     4.5  2009-01-02 01:13:41  ",
      "text/html": "<div>\n<style scoped>\n    .dataframe tbody tr th:only-of-type {\n        vertical-align: middle;\n    }\n\n    .dataframe tbody tr th {\n        vertical-align: top;\n    }\n\n    .dataframe thead th {\n        text-align: right;\n    }\n</style>\n<table border=\"1\" class=\"dataframe\">\n  <thead>\n    <tr style=\"text-align: right;\">\n      <th></th>\n      <th>movieId</th>\n      <th>title</th>\n      <th>genres</th>\n      <th>userId</th>\n      <th>rating</th>\n      <th>timestamp</th>\n    </tr>\n  </thead>\n  <tbody>\n    <tr>\n      <th>0</th>\n      <td>1</td>\n      <td>Toy Story (1995)</td>\n      <td>Adventure|Animation|Children|Comedy|Fantasy</td>\n      <td>3.0</td>\n      <td>4.0</td>\n      <td>1999-12-11 13:36:47</td>\n    </tr>\n    <tr>\n      <th>1</th>\n      <td>1</td>\n      <td>Toy Story (1995)</td>\n      <td>Adventure|Animation|Children|Comedy|Fantasy</td>\n      <td>6.0</td>\n      <td>5.0</td>\n      <td>1997-03-13 17:50:52</td>\n    </tr>\n    <tr>\n      <th>2</th>\n      <td>1</td>\n      <td>Toy Story (1995)</td>\n      <td>Adventure|Animation|Children|Comedy|Fantasy</td>\n      <td>8.0</td>\n      <td>4.0</td>\n      <td>1996-06-05 13:37:51</td>\n    </tr>\n    <tr>\n      <th>3</th>\n      <td>1</td>\n      <td>Toy Story (1995)</td>\n      <td>Adventure|Animation|Children|Comedy|Fantasy</td>\n      <td>10.0</td>\n      <td>4.0</td>\n      <td>1999-11-25 02:44:47</td>\n    </tr>\n    <tr>\n      <th>4</th>\n      <td>1</td>\n      <td>Toy Story (1995)</td>\n      <td>Adventure|Animation|Children|Comedy|Fantasy</td>\n      <td>11.0</td>\n      <td>4.5</td>\n      <td>2009-01-02 01:13:41</td>\n    </tr>\n  </tbody>\n</table>\n</div>"
     },
     "metadata": {}
    }
   ]
  },
  {
   "cell_type": "code",
   "source": [
    "df.shape"
   ],
   "metadata": {
    "execution": {
     "iopub.status.busy": "2021-06-13T06:19:01.719899Z",
     "iopub.execute_input": "2021-06-13T06:19:01.720356Z",
     "iopub.status.idle": "2021-06-13T06:19:01.733265Z",
     "shell.execute_reply.started": "2021-06-13T06:19:01.720302Z",
     "shell.execute_reply": "2021-06-13T06:19:01.732672Z"
    },
    "trusted": true
   },
   "execution_count": 7,
   "outputs": [
    {
     "execution_count": 7,
     "output_type": "execute_result",
     "data": {
      "text/plain": "(20000797, 6)"
     },
     "metadata": {}
    }
   ]
  },
  {
   "cell_type": "code",
   "source": [
    "df[\"title\"].nunique()"
   ],
   "metadata": {
    "execution": {
     "iopub.status.busy": "2021-06-13T06:19:01.736148Z",
     "iopub.execute_input": "2021-06-13T06:19:01.736799Z",
     "iopub.status.idle": "2021-06-13T06:19:04.223408Z",
     "shell.execute_reply.started": "2021-06-13T06:19:01.736759Z",
     "shell.execute_reply": "2021-06-13T06:19:04.222311Z"
    },
    "trusted": true
   },
   "execution_count": 8,
   "outputs": [
    {
     "execution_count": 8,
     "output_type": "execute_result",
     "data": {
      "text/plain": "27262"
     },
     "metadata": {}
    }
   ]
  },
  {
   "cell_type": "code",
   "source": [
    "comment_counts = pd.DataFrame(df[\"title\"].value_counts())"
   ],
   "metadata": {
    "execution": {
     "iopub.status.busy": "2021-06-13T06:19:04.228026Z",
     "iopub.execute_input": "2021-06-13T06:19:04.228610Z",
     "iopub.status.idle": "2021-06-13T06:19:05.699847Z",
     "shell.execute_reply.started": "2021-06-13T06:19:04.228569Z",
     "shell.execute_reply": "2021-06-13T06:19:05.699193Z"
    },
    "trusted": true
   },
   "execution_count": 9,
   "outputs": []
  },
  {
   "cell_type": "code",
   "source": [
    "\n",
    "rare_movies = comment_counts[comment_counts[\"title\"]<=1000].index\n"
   ],
   "metadata": {
    "execution": {
     "iopub.status.busy": "2021-06-13T06:19:05.700725Z",
     "iopub.execute_input": "2021-06-13T06:19:05.701066Z",
     "iopub.status.idle": "2021-06-13T06:19:05.723145Z",
     "shell.execute_reply.started": "2021-06-13T06:19:05.701040Z",
     "shell.execute_reply": "2021-06-13T06:19:05.722479Z"
    },
    "trusted": true
   },
   "execution_count": 10,
   "outputs": []
  },
  {
   "cell_type": "code",
   "source": [
    "common_movies = df[~df[\"title\"].isin(rare_movies)]"
   ],
   "metadata": {
    "execution": {
     "iopub.status.busy": "2021-06-13T06:19:05.724016Z",
     "iopub.execute_input": "2021-06-13T06:19:05.724352Z",
     "iopub.status.idle": "2021-06-13T06:19:11.481998Z",
     "shell.execute_reply.started": "2021-06-13T06:19:05.724314Z",
     "shell.execute_reply": "2021-06-13T06:19:11.481211Z"
    },
    "trusted": true
   },
   "execution_count": 11,
   "outputs": []
  },
  {
   "cell_type": "code",
   "source": [
    "common_movies[\"title\"].nunique()"
   ],
   "metadata": {
    "execution": {
     "iopub.status.busy": "2021-06-13T06:19:11.482957Z",
     "iopub.execute_input": "2021-06-13T06:19:11.483352Z",
     "iopub.status.idle": "2021-06-13T06:19:13.698788Z",
     "shell.execute_reply.started": "2021-06-13T06:19:11.483314Z",
     "shell.execute_reply": "2021-06-13T06:19:13.698204Z"
    },
    "trusted": true
   },
   "execution_count": 12,
   "outputs": [
    {
     "execution_count": 12,
     "output_type": "execute_result",
     "data": {
      "text/plain": "3159"
     },
     "metadata": {}
    }
   ]
  },
  {
   "cell_type": "code",
   "source": [
    "common_movies.shape "
   ],
   "metadata": {
    "execution": {
     "iopub.status.busy": "2021-06-13T06:19:13.699642Z",
     "iopub.execute_input": "2021-06-13T06:19:13.699985Z",
     "iopub.status.idle": "2021-06-13T06:19:13.704738Z",
     "shell.execute_reply.started": "2021-06-13T06:19:13.699960Z",
     "shell.execute_reply": "2021-06-13T06:19:13.703702Z"
    },
    "trusted": true
   },
   "execution_count": 13,
   "outputs": [
    {
     "execution_count": 13,
     "output_type": "execute_result",
     "data": {
      "text/plain": "(17766015, 6)"
     },
     "metadata": {}
    }
   ]
  },
  {
   "cell_type": "code",
   "source": [
    "user_movie_df = common_movies.pivot_table(index=[\"userId\"], columns=[\"title\"], values=\"rating\")"
   ],
   "metadata": {
    "execution": {
     "iopub.status.busy": "2021-06-13T06:19:13.705657Z",
     "iopub.execute_input": "2021-06-13T06:19:13.705911Z",
     "iopub.status.idle": "2021-06-13T06:19:41.324080Z",
     "shell.execute_reply.started": "2021-06-13T06:19:13.705888Z",
     "shell.execute_reply": "2021-06-13T06:19:41.323161Z"
    },
    "trusted": true
   },
   "execution_count": 14,
   "outputs": []
  },
  {
   "cell_type": "code",
   "source": [
    "user_movie_df.shape #sütun sayısı eşsiz film sayısı ,satır sayısı eşsiz kullanıcı sayısı"
   ],
   "metadata": {
    "execution": {
     "iopub.status.busy": "2021-06-13T06:19:41.325308Z",
     "iopub.execute_input": "2021-06-13T06:19:41.325607Z",
     "iopub.status.idle": "2021-06-13T06:19:41.330014Z",
     "shell.execute_reply.started": "2021-06-13T06:19:41.325580Z",
     "shell.execute_reply": "2021-06-13T06:19:41.329218Z"
    },
    "trusted": true
   },
   "execution_count": 15,
   "outputs": [
    {
     "execution_count": 15,
     "output_type": "execute_result",
     "data": {
      "text/plain": "(138493, 3159)"
     },
     "metadata": {}
    }
   ]
  },
  {
   "cell_type": "code",
   "source": [
    "user = 108170"
   ],
   "metadata": {
    "execution": {
     "iopub.status.busy": "2021-06-13T06:19:41.331160Z",
     "iopub.execute_input": "2021-06-13T06:19:41.331430Z",
     "iopub.status.idle": "2021-06-13T06:19:41.349854Z",
     "shell.execute_reply.started": "2021-06-13T06:19:41.331396Z",
     "shell.execute_reply": "2021-06-13T06:19:41.348678Z"
    },
    "trusted": true
   },
   "execution_count": 16,
   "outputs": []
  },
  {
   "cell_type": "code",
   "source": [
    "movie_id = ratings[(ratings[\"userId\"] == user)&(ratings[\"rating\"] == 5)].\\\n",
    "           sort_values(by=\"timestamp\", ascending=False).head()"
   ],
   "metadata": {
    "execution": {
     "iopub.status.busy": "2021-06-13T06:19:41.351080Z",
     "iopub.execute_input": "2021-06-13T06:19:41.351376Z",
     "iopub.status.idle": "2021-06-13T06:19:41.467010Z",
     "shell.execute_reply.started": "2021-06-13T06:19:41.351316Z",
     "shell.execute_reply": "2021-06-13T06:19:41.466295Z"
    },
    "trusted": true
   },
   "execution_count": 17,
   "outputs": []
  },
  {
   "cell_type": "code",
   "source": [
    "movie_id"
   ],
   "metadata": {
    "execution": {
     "iopub.status.busy": "2021-06-13T06:19:41.468070Z",
     "iopub.execute_input": "2021-06-13T06:19:41.468317Z",
     "iopub.status.idle": "2021-06-13T06:19:41.477615Z",
     "shell.execute_reply.started": "2021-06-13T06:19:41.468294Z",
     "shell.execute_reply": "2021-06-13T06:19:41.476766Z"
    },
    "trusted": true
   },
   "execution_count": 18,
   "outputs": [
    {
     "execution_count": 18,
     "output_type": "execute_result",
     "data": {
      "text/plain": "          userId  movieId  rating            timestamp\n15643060  108170     7044     5.0  2005-06-11 04:59:10\n15642888  108170       25     5.0  2005-06-11 04:59:06\n15643008  108170     2871     5.0  2005-06-11 04:59:03\n15642976  108170     1732     5.0  2005-06-11 04:58:44\n15642926  108170      778     5.0  2005-06-11 04:58:37",
      "text/html": "<div>\n<style scoped>\n    .dataframe tbody tr th:only-of-type {\n        vertical-align: middle;\n    }\n\n    .dataframe tbody tr th {\n        vertical-align: top;\n    }\n\n    .dataframe thead th {\n        text-align: right;\n    }\n</style>\n<table border=\"1\" class=\"dataframe\">\n  <thead>\n    <tr style=\"text-align: right;\">\n      <th></th>\n      <th>userId</th>\n      <th>movieId</th>\n      <th>rating</th>\n      <th>timestamp</th>\n    </tr>\n  </thead>\n  <tbody>\n    <tr>\n      <th>15643060</th>\n      <td>108170</td>\n      <td>7044</td>\n      <td>5.0</td>\n      <td>2005-06-11 04:59:10</td>\n    </tr>\n    <tr>\n      <th>15642888</th>\n      <td>108170</td>\n      <td>25</td>\n      <td>5.0</td>\n      <td>2005-06-11 04:59:06</td>\n    </tr>\n    <tr>\n      <th>15643008</th>\n      <td>108170</td>\n      <td>2871</td>\n      <td>5.0</td>\n      <td>2005-06-11 04:59:03</td>\n    </tr>\n    <tr>\n      <th>15642976</th>\n      <td>108170</td>\n      <td>1732</td>\n      <td>5.0</td>\n      <td>2005-06-11 04:58:44</td>\n    </tr>\n    <tr>\n      <th>15642926</th>\n      <td>108170</td>\n      <td>778</td>\n      <td>5.0</td>\n      <td>2005-06-11 04:58:37</td>\n    </tr>\n  </tbody>\n</table>\n</div>"
     },
     "metadata": {}
    }
   ]
  },
  {
   "cell_type": "code",
   "source": [
    "movie_name = df[df.movieId == 7044][\"title\"].values[1]\n"
   ],
   "metadata": {
    "execution": {
     "iopub.status.busy": "2021-06-13T06:19:41.478801Z",
     "iopub.execute_input": "2021-06-13T06:19:41.479290Z",
     "iopub.status.idle": "2021-06-13T06:19:41.508098Z",
     "shell.execute_reply.started": "2021-06-13T06:19:41.479242Z",
     "shell.execute_reply": "2021-06-13T06:19:41.507431Z"
    },
    "trusted": true
   },
   "execution_count": 19,
   "outputs": []
  },
  {
   "cell_type": "code",
   "source": [
    "movie_name = user_movie_df[movie_name]"
   ],
   "metadata": {
    "execution": {
     "iopub.status.busy": "2021-06-13T06:19:41.509167Z",
     "iopub.execute_input": "2021-06-13T06:19:41.509685Z",
     "iopub.status.idle": "2021-06-13T06:19:41.514926Z",
     "shell.execute_reply.started": "2021-06-13T06:19:41.509645Z",
     "shell.execute_reply": "2021-06-13T06:19:41.514015Z"
    },
    "trusted": true
   },
   "execution_count": 20,
   "outputs": []
  },
  {
   "cell_type": "code",
   "source": [
    "user_movie_df.corrwith(movie_name).sort_values(ascending=False)[1:6]"
   ],
   "metadata": {
    "execution": {
     "iopub.status.busy": "2021-06-13T06:19:41.516042Z",
     "iopub.execute_input": "2021-06-13T06:19:41.516454Z",
     "iopub.status.idle": "2021-06-13T06:19:50.583811Z",
     "shell.execute_reply.started": "2021-06-13T06:19:41.516416Z",
     "shell.execute_reply": "2021-06-13T06:19:50.582891Z"
    },
    "trusted": true
   },
   "execution_count": 21,
   "outputs": [
    {
     "execution_count": 21,
     "output_type": "execute_result",
     "data": {
      "text/plain": "title\nMy Science Project (1985)                0.570187\nMediterraneo (1991)                      0.538868\nOld Man and the Sea, The (1958)          0.536192\nNational Lampoon's Senior Trip (1995)    0.533029\nClockwatchers (1997)                     0.483337\ndtype: float64"
     },
     "metadata": {}
    }
   ]
  },
  {
   "cell_type": "code",
   "source": "",
   "metadata": {},
   "execution_count": null,
   "outputs": []
  },
  {
   "cell_type": "code",
   "source": "",
   "metadata": {},
   "execution_count": null,
   "outputs": []
  },
  {
   "cell_type": "code",
   "source": "",
   "metadata": {},
   "execution_count": null,
   "outputs": []
  }
 ]
}